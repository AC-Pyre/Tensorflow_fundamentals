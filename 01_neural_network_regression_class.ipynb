{
  "nbformat": 4,
  "nbformat_minor": 0,
  "metadata": {
    "colab": {
      "name": "01_neural_network_regression_class.ipynb",
      "provenance": [],
      "collapsed_sections": [],
      "authorship_tag": "ABX9TyM4/MtTIoUGFB0ktgp7u0Or",
      "include_colab_link": true
    },
    "kernelspec": {
      "name": "python3",
      "display_name": "Python 3"
    },
    "language_info": {
      "name": "python"
    }
  },
  "cells": [
    {
      "cell_type": "markdown",
      "metadata": {
        "id": "view-in-github",
        "colab_type": "text"
      },
      "source": [
        "<a href=\"https://colab.research.google.com/github/AC-Pyre/Tensorflow_fundamentals/blob/main/01_neural_network_regression_class.ipynb\" target=\"_parent\"><img src=\"https://colab.research.google.com/assets/colab-badge.svg\" alt=\"Open In Colab\"/></a>"
      ]
    },
    {
      "cell_type": "markdown",
      "metadata": {
        "id": "hWv0ddcuhl7g"
      },
      "source": [
        "# Introduction to Regression with Neural Networks in TensorFlow\n",
        "\n",
        "There are many definitions for a regression problem but in our case, we're going to simplify it: prediction a numerical variable based on some other combination of variables, even shorter... predicting a number"
      ]
    },
    {
      "cell_type": "code",
      "metadata": {
        "id": "kszMKdkQw8xV"
      },
      "source": [
        "# Import tensorflow\n",
        "import tensorflow as tf\n",
        "import numpy as np\n",
        "import matplotlib.pyplot as plt"
      ],
      "execution_count": 1,
      "outputs": []
    },
    {
      "cell_type": "code",
      "metadata": {
        "colab": {
          "base_uri": "https://localhost:8080/",
          "height": 269
        },
        "id": "_NzgbXcjxDAh",
        "outputId": "94adbe7c-389a-4e0a-9dc9-7dc1f0502b71"
      },
      "source": [
        "# Create features\n",
        "X = np.array([-7.0, -4.0, -1.0, 2.0, 5.0, 8.0, 11.0, 14.0])\n",
        "\n",
        "# Create labels\n",
        "Y = np.array([3.0, 6.0, 9.0, 12.0, 15.0, 18.0, 21.0, 24.0])\n",
        "\n",
        "# Visualize it\n",
        "plt.scatter(X, Y);\n",
        "\n"
      ],
      "execution_count": 2,
      "outputs": [
        {
          "output_type": "display_data",
          "data": {
            "image/png": "[encoded data removed]",
            "text/plain": [
              "<Figure size 432x288 with 1 Axes>"
            ]
          },
          "metadata": {
            "tags": [],
            "needs_background": "light"
          }
        }
      ]
    },
    {
      "cell_type": "markdown",
      "metadata": {
        "id": "Mqud72Owx6Ne"
      },
      "source": [
        "## Input and output shapes"
      ]
    },
    {
      "cell_type": "code",
      "metadata": {
        "colab": {
          "base_uri": "https://localhost:8080/"
        },
        "id": "KY8PKbsly78G",
        "outputId": "fd31e1b0-c988-44f4-a20a-57ff6acf27e6"
      },
      "source": [
        "# Create a demo tensor for our housing price prediction problem\n",
        "house_info = tf.constant([\"bedroom\", \"bathroom\", \"garage\"])\n",
        "house_price = tf.constant([939700])\n",
        "house_info, house_price"
      ],
      "execution_count": 3,
      "outputs": [
        {
          "output_type": "execute_result",
          "data": {
            "text/plain": [
              "(<tf.Tensor: shape=(3,), dtype=string, numpy=array([b'bedroom', b'bathroom', b'garage'], dtype=object)>,\n",
              " <tf.Tensor: shape=(1,), dtype=int32, numpy=array([939700], dtype=int32)>)"
            ]
          },
          "metadata": {
            "tags": []
          },
          "execution_count": 3
        }
      ]
    },
    {
      "cell_type": "code",
      "metadata": {
        "colab": {
          "base_uri": "https://localhost:8080/"
        },
        "id": "9bdIKe-s0VKS",
        "outputId": "906d9ada-51d7-402d-95ae-8b2688d223fe"
      },
      "source": [
        "input_shape = X.shape\n",
        "output_shape = Y.shape\n",
        "input_shape, output_shape"
      ],
      "execution_count": 4,
      "outputs": [
        {
          "output_type": "execute_result",
          "data": {
            "text/plain": [
              "((8,), (8,))"
            ]
          },
          "metadata": {
            "tags": []
          },
          "execution_count": 4
        }
      ]
    },
    {
      "cell_type": "code",
      "metadata": {
        "colab": {
          "base_uri": "https://localhost:8080/"
        },
        "id": "a-_t5kEw0sjY",
        "outputId": "e93e5361-42b6-495f-a9fa-b3afd8120277"
      },
      "source": [
        "# Turn our NumPy arrays into tensors\n",
        "X = tf.constant(X)\n",
        "Y = tf.constant(Y)\n",
        "X, Y"
      ],
      "execution_count": 5,
      "outputs": [
        {
          "output_type": "execute_result",
          "data": {
            "text/plain": [
              "(<tf.Tensor: shape=(8,), dtype=float64, numpy=array([-7., -4., -1.,  2.,  5.,  8., 11., 14.])>,\n",
              " <tf.Tensor: shape=(8,), dtype=float64, numpy=array([ 3.,  6.,  9., 12., 15., 18., 21., 24.])>)"
            ]
          },
          "metadata": {
            "tags": []
          },
          "execution_count": 5
        }
      ]
    },
    {
      "cell_type": "code",
      "metadata": {
        "colab": {
          "base_uri": "https://localhost:8080/"
        },
        "id": "xbGOjCi11qhW",
        "outputId": "f48d7ecd-44af-463d-845f-ace9a8faad92"
      },
      "source": [
        "input_shape = X[0].shape \n",
        "output_shape = Y[0].shape \n",
        "input_shape, output_shape\n"
      ],
      "execution_count": 6,
      "outputs": [
        {
          "output_type": "execute_result",
          "data": {
            "text/plain": [
              "(TensorShape([]), TensorShape([]))"
            ]
          },
          "metadata": {
            "tags": []
          },
          "execution_count": 6
        }
      ]
    },
    {
      "cell_type": "markdown",
      "metadata": {
        "id": "WJgWLeIy2C1W"
      },
      "source": [
        "## Steps in modelling with TensorFlow\n",
        "\n",
        "1. **Creating a model** - define the input and output layers, as well as  the hidden layers of a deep learning model.\n",
        "2. **Compiling a model** - define the loss function (in other words, the function which tells our model how wrong it is and the optimizer (tells our model how to improve the patterns its learning) and evaluation metrics (what we can use to interpret the performance of our model).\n",
        "3. **Fitting a model** - letting the model try to find patterns between X & Y (features and labels)\n",
        "4. **Evaluate the model**"
      ]
    },
    {
      "cell_type": "code",
      "metadata": {
        "colab": {
          "base_uri": "https://localhost:8080/"
        },
        "id": "VCpIbE7j3Nlc",
        "outputId": "ddd8243a-e57e-4102-93a9-f513ea393c91"
      },
      "source": [
        "# Set random seed\n",
        "tf.random.set_seed(42)\n",
        "\n",
        "# 1. Create a model using the Sequential API\n",
        "model = tf.keras.Sequential([\n",
        "    tf.keras.layers.Dense(1)\n",
        "])\n",
        "# 2. Compile the model\n",
        "model.compile(loss=tf.keras.losses.mae, # mae is short for mean absolute error\n",
        "              optimizer=tf.keras.optimizers.SGD(), # sgd is short for stochastic gradient descent\n",
        "              metrics=[\"mae\"])\n",
        "\n",
        "# 3. Fit the model\n",
        "model.fit(X, Y, epochs=5)"
      ],
      "execution_count": 7,
      "outputs": [
        {
          "output_type": "stream",
          "text": [
            "Epoch 1/5\n",
            "1/1 [==============================] - 1s 559ms/step - loss: 11.5048 - mae: 11.5048\n",
            "Epoch 2/5\n",
            "1/1 [==============================] - 0s 4ms/step - loss: 11.3723 - mae: 11.3723\n",
            "Epoch 3/5\n",
            "1/1 [==============================] - 0s 7ms/step - loss: 11.2398 - mae: 11.2398\n",
            "Epoch 4/5\n",
            "1/1 [==============================] - 0s 4ms/step - loss: 11.1073 - mae: 11.1073\n",
            "Epoch 5/5\n",
            "1/1 [==============================] - 0s 6ms/step - loss: 10.9748 - mae: 10.9748\n"
          ],
          "name": "stdout"
        },
        {
          "output_type": "execute_result",
          "data": {
            "text/plain": [
              "<tensorflow.python.keras.callbacks.History at 0x7fbfee438450>"
            ]
          },
          "metadata": {
            "tags": []
          },
          "execution_count": 7
        }
      ]
    },
    {
      "cell_type": "code",
      "metadata": {
        "colab": {
          "base_uri": "https://localhost:8080/"
        },
        "id": "-GtjkXad5i2P",
        "outputId": "abdfb273-9ce6-4874-ede9-8161c9e56876"
      },
      "source": [
        "model.predict([17.0])"
      ],
      "execution_count": 8,
      "outputs": [
        {
          "output_type": "execute_result",
          "data": {
            "text/plain": [
              "array([[12.716021]], dtype=float32)"
            ]
          },
          "metadata": {
            "tags": []
          },
          "execution_count": 8
        }
      ]
    },
    {
      "cell_type": "markdown",
      "metadata": {
        "id": "7hDMXOWA6dDX"
      },
      "source": [
        "## Improve our model\n",
        "\n",
        "We can improve our model, by altering the steps we took to create a model\n",
        "\n",
        "1. **Creating a model** - here we might add more layers, increase the number of hidden units (all called neurons) within each of the hidden layers, change the activation function of layer.\n",
        "2. **Compiling a model** - Here we might change the optimization fucntion or perhaps the **learning rate** of the optimization function.\n",
        "3. **Fitting a model** - here we might fit a model for more **epochs** (leave it training for longer or on more data (five the model more examples to learn from).\n"
      ]
    },
    {
      "cell_type": "code",
      "metadata": {
        "colab": {
          "base_uri": "https://localhost:8080/"
        },
        "id": "aODSZDeOqqhE",
        "outputId": "78d992d1-c14f-43ae-8d6c-4b1920a2d78a"
      },
      "source": [
        "# Let's rebuild our model\n",
        "\n",
        "#1 create the model\n",
        "model = tf.keras.Sequential([\n",
        "  tf.keras.layers.Dense(1)\n",
        "])\n",
        "\n",
        "# 2 Compile the model\n",
        "model.compile(loss=tf.keras.losses.mae,\n",
        "              optimizer=tf.keras.optimizers.SGD(),\n",
        "              metrics=[\"mae\"])\n",
        "\n",
        "# 3 Fit the model\n",
        "model.fit(X, Y, epochs=100)"
      ],
      "execution_count": 9,
      "outputs": [
        {
          "output_type": "stream",
          "text": [
            "Epoch 1/100\n",
            "1/1 [==============================] - 0s 302ms/step - loss: 11.2219 - mae: 11.2219\n",
            "Epoch 2/100\n",
            "1/1 [==============================] - 0s 4ms/step - loss: 11.0894 - mae: 11.0894\n",
            "Epoch 3/100\n",
            "1/1 [==============================] - 0s 3ms/step - loss: 10.9569 - mae: 10.9569\n",
            "Epoch 4/100\n",
            "1/1 [==============================] - 0s 5ms/step - loss: 10.8244 - mae: 10.8244\n",
            "Epoch 5/100\n",
            "1/1 [==============================] - 0s 6ms/step - loss: 10.6919 - mae: 10.6919\n",
            "Epoch 6/100\n",
            "1/1 [==============================] - 0s 5ms/step - loss: 10.5594 - mae: 10.5594\n",
            "Epoch 7/100\n",
            "1/1 [==============================] - 0s 5ms/step - loss: 10.4269 - mae: 10.4269\n",
            "Epoch 8/100\n",
            "1/1 [==============================] - 0s 7ms/step - loss: 10.2944 - mae: 10.2944\n",
            "Epoch 9/100\n",
            "1/1 [==============================] - 0s 11ms/step - loss: 10.1619 - mae: 10.1619\n",
            "Epoch 10/100\n",
            "1/1 [==============================] - 0s 14ms/step - loss: 10.0294 - mae: 10.0294\n",
            "Epoch 11/100\n",
            "1/1 [==============================] - 0s 6ms/step - loss: 9.8969 - mae: 9.8969\n",
            "Epoch 12/100\n",
            "1/1 [==============================] - 0s 8ms/step - loss: 9.7644 - mae: 9.7644\n",
            "Epoch 13/100\n",
            "1/1 [==============================] - 0s 5ms/step - loss: 9.6319 - mae: 9.6319\n",
            "Epoch 14/100\n",
            "1/1 [==============================] - 0s 7ms/step - loss: 9.4994 - mae: 9.4994\n",
            "Epoch 15/100\n",
            "1/1 [==============================] - 0s 4ms/step - loss: 9.3669 - mae: 9.3669\n",
            "Epoch 16/100\n",
            "1/1 [==============================] - 0s 5ms/step - loss: 9.2344 - mae: 9.2344\n",
            "Epoch 17/100\n",
            "1/1 [==============================] - 0s 5ms/step - loss: 9.1019 - mae: 9.1019\n",
            "Epoch 18/100\n",
            "1/1 [==============================] - 0s 13ms/step - loss: 8.9694 - mae: 8.9694\n",
            "Epoch 19/100\n",
            "1/1 [==============================] - 0s 8ms/step - loss: 8.8369 - mae: 8.8369\n",
            "Epoch 20/100\n",
            "1/1 [==============================] - 0s 4ms/step - loss: 8.7044 - mae: 8.7044\n",
            "Epoch 21/100\n",
            "1/1 [==============================] - 0s 5ms/step - loss: 8.5719 - mae: 8.5719\n",
            "Epoch 22/100\n",
            "1/1 [==============================] - 0s 6ms/step - loss: 8.4394 - mae: 8.4394\n",
            "Epoch 23/100\n",
            "1/1 [==============================] - 0s 6ms/step - loss: 8.3069 - mae: 8.3069\n",
            "Epoch 24/100\n",
            "1/1 [==============================] - 0s 6ms/step - loss: 8.1744 - mae: 8.1744\n",
            "Epoch 25/100\n",
            "1/1 [==============================] - 0s 8ms/step - loss: 8.0419 - mae: 8.0419\n",
            "Epoch 26/100\n",
            "1/1 [==============================] - 0s 5ms/step - loss: 7.9094 - mae: 7.9094\n",
            "Epoch 27/100\n",
            "1/1 [==============================] - 0s 6ms/step - loss: 7.7769 - mae: 7.7769\n",
            "Epoch 28/100\n",
            "1/1 [==============================] - 0s 7ms/step - loss: 7.6444 - mae: 7.6444\n",
            "Epoch 29/100\n",
            "1/1 [==============================] - 0s 13ms/step - loss: 7.5119 - mae: 7.5119\n",
            "Epoch 30/100\n",
            "1/1 [==============================] - 0s 6ms/step - loss: 7.3794 - mae: 7.3794\n",
            "Epoch 31/100\n",
            "1/1 [==============================] - 0s 7ms/step - loss: 7.2750 - mae: 7.2750\n",
            "Epoch 32/100\n",
            "1/1 [==============================] - 0s 5ms/step - loss: 7.2694 - mae: 7.2694\n",
            "Epoch 33/100\n",
            "1/1 [==============================] - 0s 7ms/step - loss: 7.2638 - mae: 7.2638\n",
            "Epoch 34/100\n",
            "1/1 [==============================] - 0s 7ms/step - loss: 7.2581 - mae: 7.2581\n",
            "Epoch 35/100\n",
            "1/1 [==============================] - 0s 9ms/step - loss: 7.2525 - mae: 7.2525\n",
            "Epoch 36/100\n",
            "1/1 [==============================] - 0s 6ms/step - loss: 7.2469 - mae: 7.2469\n",
            "Epoch 37/100\n",
            "1/1 [==============================] - 0s 6ms/step - loss: 7.2412 - mae: 7.2412\n",
            "Epoch 38/100\n",
            "1/1 [==============================] - 0s 7ms/step - loss: 7.2356 - mae: 7.2356\n",
            "Epoch 39/100\n",
            "1/1 [==============================] - 0s 6ms/step - loss: 7.2300 - mae: 7.2300\n",
            "Epoch 40/100\n",
            "1/1 [==============================] - 0s 7ms/step - loss: 7.2244 - mae: 7.2244\n",
            "Epoch 41/100\n",
            "1/1 [==============================] - 0s 5ms/step - loss: 7.2188 - mae: 7.2188\n",
            "Epoch 42/100\n",
            "1/1 [==============================] - 0s 6ms/step - loss: 7.2131 - mae: 7.2131\n",
            "Epoch 43/100\n",
            "1/1 [==============================] - 0s 6ms/step - loss: 7.2075 - mae: 7.2075\n",
            "Epoch 44/100\n",
            "1/1 [==============================] - 0s 6ms/step - loss: 7.2019 - mae: 7.2019\n",
            "Epoch 45/100\n",
            "1/1 [==============================] - 0s 6ms/step - loss: 7.1962 - mae: 7.1962\n",
            "Epoch 46/100\n",
            "1/1 [==============================] - 0s 5ms/step - loss: 7.1906 - mae: 7.1906\n",
            "Epoch 47/100\n",
            "1/1 [==============================] - 0s 5ms/step - loss: 7.1850 - mae: 7.1850\n",
            "Epoch 48/100\n",
            "1/1 [==============================] - 0s 8ms/step - loss: 7.1794 - mae: 7.1794\n",
            "Epoch 49/100\n",
            "1/1 [==============================] - 0s 8ms/step - loss: 7.1737 - mae: 7.1737\n",
            "Epoch 50/100\n",
            "1/1 [==============================] - 0s 4ms/step - loss: 7.1681 - mae: 7.1681\n",
            "Epoch 51/100\n",
            "1/1 [==============================] - 0s 9ms/step - loss: 7.1625 - mae: 7.1625\n",
            "Epoch 52/100\n",
            "1/1 [==============================] - 0s 8ms/step - loss: 7.1569 - mae: 7.1569\n",
            "Epoch 53/100\n",
            "1/1 [==============================] - 0s 7ms/step - loss: 7.1512 - mae: 7.1512\n",
            "Epoch 54/100\n",
            "1/1 [==============================] - 0s 7ms/step - loss: 7.1456 - mae: 7.1456\n",
            "Epoch 55/100\n",
            "1/1 [==============================] - 0s 6ms/step - loss: 7.1400 - mae: 7.1400\n",
            "Epoch 56/100\n",
            "1/1 [==============================] - 0s 10ms/step - loss: 7.1344 - mae: 7.1344\n",
            "Epoch 57/100\n",
            "1/1 [==============================] - 0s 6ms/step - loss: 7.1287 - mae: 7.1287\n",
            "Epoch 58/100\n",
            "1/1 [==============================] - 0s 5ms/step - loss: 7.1231 - mae: 7.1231\n",
            "Epoch 59/100\n",
            "1/1 [==============================] - 0s 5ms/step - loss: 7.1175 - mae: 7.1175\n",
            "Epoch 60/100\n",
            "1/1 [==============================] - 0s 9ms/step - loss: 7.1119 - mae: 7.1119\n",
            "Epoch 61/100\n",
            "1/1 [==============================] - 0s 4ms/step - loss: 7.1062 - mae: 7.1062\n",
            "Epoch 62/100\n",
            "1/1 [==============================] - 0s 6ms/step - loss: 7.1006 - mae: 7.1006\n",
            "Epoch 63/100\n",
            "1/1 [==============================] - 0s 5ms/step - loss: 7.0950 - mae: 7.0950\n",
            "Epoch 64/100\n",
            "1/1 [==============================] - 0s 6ms/step - loss: 7.0894 - mae: 7.0894\n",
            "Epoch 65/100\n",
            "1/1 [==============================] - 0s 5ms/step - loss: 7.0838 - mae: 7.0838\n",
            "Epoch 66/100\n",
            "1/1 [==============================] - 0s 6ms/step - loss: 7.0781 - mae: 7.0781\n",
            "Epoch 67/100\n",
            "1/1 [==============================] - 0s 6ms/step - loss: 7.0725 - mae: 7.0725\n",
            "Epoch 68/100\n",
            "1/1 [==============================] - 0s 4ms/step - loss: 7.0669 - mae: 7.0669\n",
            "Epoch 69/100\n",
            "1/1 [==============================] - 0s 5ms/step - loss: 7.0613 - mae: 7.0613\n",
            "Epoch 70/100\n",
            "1/1 [==============================] - 0s 5ms/step - loss: 7.0556 - mae: 7.0556\n",
            "Epoch 71/100\n",
            "1/1 [==============================] - 0s 9ms/step - loss: 7.0500 - mae: 7.0500\n",
            "Epoch 72/100\n",
            "1/1 [==============================] - 0s 4ms/step - loss: 7.0444 - mae: 7.0444\n",
            "Epoch 73/100\n",
            "1/1 [==============================] - 0s 5ms/step - loss: 7.0388 - mae: 7.0388\n",
            "Epoch 74/100\n",
            "1/1 [==============================] - 0s 5ms/step - loss: 7.0331 - mae: 7.0331\n",
            "Epoch 75/100\n",
            "1/1 [==============================] - 0s 7ms/step - loss: 7.0275 - mae: 7.0275\n",
            "Epoch 76/100\n",
            "1/1 [==============================] - 0s 5ms/step - loss: 7.0219 - mae: 7.0219\n",
            "Epoch 77/100\n",
            "1/1 [==============================] - 0s 7ms/step - loss: 7.0163 - mae: 7.0163\n",
            "Epoch 78/100\n",
            "1/1 [==============================] - 0s 5ms/step - loss: 7.0106 - mae: 7.0106\n",
            "Epoch 79/100\n",
            "1/1 [==============================] - 0s 8ms/step - loss: 7.0050 - mae: 7.0050\n",
            "Epoch 80/100\n",
            "1/1 [==============================] - 0s 5ms/step - loss: 6.9994 - mae: 6.9994\n",
            "Epoch 81/100\n",
            "1/1 [==============================] - 0s 5ms/step - loss: 6.9938 - mae: 6.9938\n",
            "Epoch 82/100\n",
            "1/1 [==============================] - 0s 6ms/step - loss: 6.9881 - mae: 6.9881\n",
            "Epoch 83/100\n",
            "1/1 [==============================] - 0s 4ms/step - loss: 6.9825 - mae: 6.9825\n",
            "Epoch 84/100\n",
            "1/1 [==============================] - 0s 10ms/step - loss: 6.9769 - mae: 6.9769\n",
            "Epoch 85/100\n",
            "1/1 [==============================] - 0s 28ms/step - loss: 6.9713 - mae: 6.9713\n",
            "Epoch 86/100\n",
            "1/1 [==============================] - 0s 6ms/step - loss: 6.9656 - mae: 6.9656\n",
            "Epoch 87/100\n",
            "1/1 [==============================] - 0s 5ms/step - loss: 6.9600 - mae: 6.9600\n",
            "Epoch 88/100\n",
            "1/1 [==============================] - 0s 6ms/step - loss: 6.9544 - mae: 6.9544\n",
            "Epoch 89/100\n",
            "1/1 [==============================] - 0s 4ms/step - loss: 6.9488 - mae: 6.9488\n",
            "Epoch 90/100\n",
            "1/1 [==============================] - 0s 7ms/step - loss: 6.9431 - mae: 6.9431\n",
            "Epoch 91/100\n",
            "1/1 [==============================] - 0s 4ms/step - loss: 6.9375 - mae: 6.9375\n",
            "Epoch 92/100\n",
            "1/1 [==============================] - 0s 6ms/step - loss: 6.9319 - mae: 6.9319\n",
            "Epoch 93/100\n",
            "1/1 [==============================] - 0s 5ms/step - loss: 6.9263 - mae: 6.9263\n",
            "Epoch 94/100\n",
            "1/1 [==============================] - 0s 11ms/step - loss: 6.9206 - mae: 6.9206\n",
            "Epoch 95/100\n",
            "1/1 [==============================] - 0s 4ms/step - loss: 6.9150 - mae: 6.9150\n",
            "Epoch 96/100\n",
            "1/1 [==============================] - 0s 5ms/step - loss: 6.9094 - mae: 6.9094\n",
            "Epoch 97/100\n",
            "1/1 [==============================] - 0s 6ms/step - loss: 6.9038 - mae: 6.9038\n",
            "Epoch 98/100\n",
            "1/1 [==============================] - 0s 6ms/step - loss: 6.8981 - mae: 6.8981\n",
            "Epoch 99/100\n",
            "1/1 [==============================] - 0s 6ms/step - loss: 6.8925 - mae: 6.8925\n",
            "Epoch 100/100\n",
            "1/1 [==============================] - 0s 5ms/step - loss: 6.8869 - mae: 6.8869\n"
          ],
          "name": "stdout"
        },
        {
          "output_type": "execute_result",
          "data": {
            "text/plain": [
              "<tensorflow.python.keras.callbacks.History at 0x7fbfa3f2ca90>"
            ]
          },
          "metadata": {
            "tags": []
          },
          "execution_count": 9
        }
      ]
    },
    {
      "cell_type": "code",
      "metadata": {
        "colab": {
          "base_uri": "https://localhost:8080/"
        },
        "id": "nfThTdMBwXJe",
        "outputId": "cde92ae2-3f0b-4bee-8a3e-c7bbc556f8d4"
      },
      "source": [
        "# Remind ourselves of the data\n",
        "X, Y"
      ],
      "execution_count": 10,
      "outputs": [
        {
          "output_type": "execute_result",
          "data": {
            "text/plain": [
              "(<tf.Tensor: shape=(8,), dtype=float64, numpy=array([-7., -4., -1.,  2.,  5.,  8., 11., 14.])>,\n",
              " <tf.Tensor: shape=(8,), dtype=float64, numpy=array([ 3.,  6.,  9., 12., 15., 18., 21., 24.])>)"
            ]
          },
          "metadata": {
            "tags": []
          },
          "execution_count": 10
        }
      ]
    },
    {
      "cell_type": "code",
      "metadata": {
        "colab": {
          "base_uri": "https://localhost:8080/"
        },
        "id": "gt6Ju6KGw6wa",
        "outputId": "9107ae0f-f1c6-4145-f8ad-05d3efa982fe"
      },
      "source": [
        "# Let's see if our model's prediction has improved...\n",
        "model.predict([17.])"
      ],
      "execution_count": 11,
      "outputs": [
        {
          "output_type": "execute_result",
          "data": {
            "text/plain": [
              "array([[29.739855]], dtype=float32)"
            ]
          },
          "metadata": {
            "tags": []
          },
          "execution_count": 11
        }
      ]
    },
    {
      "cell_type": "code",
      "metadata": {
        "colab": {
          "base_uri": "https://localhost:8080/"
        },
        "id": "XcyKChgRxEPi",
        "outputId": "9ee54acd-044d-45aa-dfe9-d07efa5e5a74"
      },
      "source": [
        "model_1 = tf.keras.Sequential([\n",
        "  # tf.keras.layers.Dense(100, activation=\"relu\"),\n",
        "  # tf.keras.layers.Dense(100, activation=\"relu\"),\n",
        "  tf.keras.layers.Dense(1)\n",
        "])\n",
        "\n",
        "model_1.compile(loss=tf.keras.losses.mae,\n",
        "              optimizer=tf.keras.optimizers.Adam(lr=.1),\n",
        "              metrics=[\"mae\"])\n",
        "\n",
        "model_1.fit(X, Y, epochs=100)"
      ],
      "execution_count": 12,
      "outputs": [
        {
          "output_type": "stream",
          "text": [
            "/usr/local/lib/python3.7/dist-packages/tensorflow/python/keras/optimizer_v2/optimizer_v2.py:375: UserWarning: The `lr` argument is deprecated, use `learning_rate` instead.\n",
            "  \"The `lr` argument is deprecated, use `learning_rate` instead.\")\n"
          ],
          "name": "stderr"
        },
        {
          "output_type": "stream",
          "text": [
            "Epoch 1/100\n",
            "1/1 [==============================] - 0s 343ms/step - loss: 10.5736 - mae: 10.5736\n",
            "Epoch 2/100\n",
            "1/1 [==============================] - 0s 5ms/step - loss: 10.1236 - mae: 10.1236\n",
            "Epoch 3/100\n",
            "1/1 [==============================] - 0s 6ms/step - loss: 9.6736 - mae: 9.6736\n",
            "Epoch 4/100\n",
            "1/1 [==============================] - 0s 4ms/step - loss: 9.2236 - mae: 9.2236\n",
            "Epoch 5/100\n",
            "1/1 [==============================] - 0s 4ms/step - loss: 8.7736 - mae: 8.7736\n",
            "Epoch 6/100\n",
            "1/1 [==============================] - 0s 4ms/step - loss: 8.3236 - mae: 8.3236\n",
            "Epoch 7/100\n",
            "1/1 [==============================] - 0s 5ms/step - loss: 7.8736 - mae: 7.8736\n",
            "Epoch 8/100\n",
            "1/1 [==============================] - 0s 4ms/step - loss: 7.4236 - mae: 7.4236\n",
            "Epoch 9/100\n",
            "1/1 [==============================] - 0s 6ms/step - loss: 6.9736 - mae: 6.9736\n",
            "Epoch 10/100\n",
            "1/1 [==============================] - 0s 4ms/step - loss: 6.8250 - mae: 6.8250\n",
            "Epoch 11/100\n",
            "1/1 [==============================] - 0s 4ms/step - loss: 6.7706 - mae: 6.7706\n",
            "Epoch 12/100\n",
            "1/1 [==============================] - 0s 6ms/step - loss: 6.9023 - mae: 6.9023\n",
            "Epoch 13/100\n",
            "1/1 [==============================] - 0s 4ms/step - loss: 6.9798 - mae: 6.9798\n",
            "Epoch 14/100\n",
            "1/1 [==============================] - 0s 4ms/step - loss: 7.0115 - mae: 7.0115\n",
            "Epoch 15/100\n",
            "1/1 [==============================] - 0s 5ms/step - loss: 7.0041 - mae: 7.0041\n",
            "Epoch 16/100\n",
            "1/1 [==============================] - 0s 5ms/step - loss: 6.9629 - mae: 6.9629\n",
            "Epoch 17/100\n",
            "1/1 [==============================] - 0s 6ms/step - loss: 6.8925 - mae: 6.8925\n",
            "Epoch 18/100\n",
            "1/1 [==============================] - 0s 5ms/step - loss: 6.7967 - mae: 6.7967\n",
            "Epoch 19/100\n",
            "1/1 [==============================] - 0s 9ms/step - loss: 6.6786 - mae: 6.6786\n",
            "Epoch 20/100\n",
            "1/1 [==============================] - 0s 5ms/step - loss: 6.5410 - mae: 6.5410\n",
            "Epoch 21/100\n",
            "1/1 [==============================] - 0s 4ms/step - loss: 6.3862 - mae: 6.3862\n",
            "Epoch 22/100\n",
            "1/1 [==============================] - 0s 4ms/step - loss: 6.2161 - mae: 6.2161\n",
            "Epoch 23/100\n",
            "1/1 [==============================] - 0s 4ms/step - loss: 6.0324 - mae: 6.0324\n",
            "Epoch 24/100\n",
            "1/1 [==============================] - 0s 4ms/step - loss: 5.9317 - mae: 5.9317\n",
            "Epoch 25/100\n",
            "1/1 [==============================] - 0s 4ms/step - loss: 5.8711 - mae: 5.8711\n",
            "Epoch 26/100\n",
            "1/1 [==============================] - 0s 6ms/step - loss: 5.8089 - mae: 5.8089\n",
            "Epoch 27/100\n",
            "1/1 [==============================] - 0s 5ms/step - loss: 5.7619 - mae: 5.7619\n",
            "Epoch 28/100\n",
            "1/1 [==============================] - 0s 5ms/step - loss: 5.7609 - mae: 5.7609\n",
            "Epoch 29/100\n",
            "1/1 [==============================] - 0s 6ms/step - loss: 5.7017 - mae: 5.7017\n",
            "Epoch 30/100\n",
            "1/1 [==============================] - 0s 5ms/step - loss: 5.5917 - mae: 5.5917\n",
            "Epoch 31/100\n",
            "1/1 [==============================] - 0s 6ms/step - loss: 5.4656 - mae: 5.4656\n",
            "Epoch 32/100\n",
            "1/1 [==============================] - 0s 4ms/step - loss: 5.3926 - mae: 5.3926\n",
            "Epoch 33/100\n",
            "1/1 [==============================] - 0s 6ms/step - loss: 5.3197 - mae: 5.3197\n",
            "Epoch 34/100\n",
            "1/1 [==============================] - 0s 5ms/step - loss: 5.2467 - mae: 5.2467\n",
            "Epoch 35/100\n",
            "1/1 [==============================] - 0s 6ms/step - loss: 5.1738 - mae: 5.1738\n",
            "Epoch 36/100\n",
            "1/1 [==============================] - 0s 7ms/step - loss: 5.1009 - mae: 5.1009\n",
            "Epoch 37/100\n",
            "1/1 [==============================] - 0s 5ms/step - loss: 5.0279 - mae: 5.0279\n",
            "Epoch 38/100\n",
            "1/1 [==============================] - 0s 6ms/step - loss: 4.9770 - mae: 4.9770\n",
            "Epoch 39/100\n",
            "1/1 [==============================] - 0s 24ms/step - loss: 4.9214 - mae: 4.9214\n",
            "Epoch 40/100\n",
            "1/1 [==============================] - 0s 5ms/step - loss: 4.8387 - mae: 4.8387\n",
            "Epoch 41/100\n",
            "1/1 [==============================] - 0s 6ms/step - loss: 4.7472 - mae: 4.7472\n",
            "Epoch 42/100\n",
            "1/1 [==============================] - 0s 13ms/step - loss: 4.6789 - mae: 4.6789\n",
            "Epoch 43/100\n",
            "1/1 [==============================] - 0s 8ms/step - loss: 4.6100 - mae: 4.6100\n",
            "Epoch 44/100\n",
            "1/1 [==============================] - 0s 19ms/step - loss: 4.5405 - mae: 4.5405\n",
            "Epoch 45/100\n",
            "1/1 [==============================] - 0s 8ms/step - loss: 4.4706 - mae: 4.4706\n",
            "Epoch 46/100\n",
            "1/1 [==============================] - 0s 8ms/step - loss: 4.4002 - mae: 4.4002\n",
            "Epoch 47/100\n",
            "1/1 [==============================] - 0s 8ms/step - loss: 4.3295 - mae: 4.3295\n",
            "Epoch 48/100\n",
            "1/1 [==============================] - 0s 21ms/step - loss: 4.2584 - mae: 4.2584\n",
            "Epoch 49/100\n",
            "1/1 [==============================] - 0s 8ms/step - loss: 4.1869 - mae: 4.1869\n",
            "Epoch 50/100\n",
            "1/1 [==============================] - 0s 11ms/step - loss: 4.1152 - mae: 4.1152\n",
            "Epoch 51/100\n",
            "1/1 [==============================] - 0s 11ms/step - loss: 4.0432 - mae: 4.0432\n",
            "Epoch 52/100\n",
            "1/1 [==============================] - 0s 8ms/step - loss: 3.9710 - mae: 3.9710\n",
            "Epoch 53/100\n",
            "1/1 [==============================] - 0s 9ms/step - loss: 3.8986 - mae: 3.8986\n",
            "Epoch 54/100\n",
            "1/1 [==============================] - 0s 13ms/step - loss: 3.8259 - mae: 3.8259\n",
            "Epoch 55/100\n",
            "1/1 [==============================] - 0s 6ms/step - loss: 3.7531 - mae: 3.7531\n",
            "Epoch 56/100\n",
            "1/1 [==============================] - 0s 4ms/step - loss: 3.6802 - mae: 3.6802\n",
            "Epoch 57/100\n",
            "1/1 [==============================] - 0s 9ms/step - loss: 3.6071 - mae: 3.6071\n",
            "Epoch 58/100\n",
            "1/1 [==============================] - 0s 9ms/step - loss: 3.5339 - mae: 3.5339\n",
            "Epoch 59/100\n",
            "1/1 [==============================] - 0s 5ms/step - loss: 3.4605 - mae: 3.4605\n",
            "Epoch 60/100\n",
            "1/1 [==============================] - 0s 11ms/step - loss: 3.3871 - mae: 3.3871\n",
            "Epoch 61/100\n",
            "1/1 [==============================] - 0s 5ms/step - loss: 3.3135 - mae: 3.3135\n",
            "Epoch 62/100\n",
            "1/1 [==============================] - 0s 8ms/step - loss: 3.2399 - mae: 3.2399\n",
            "Epoch 63/100\n",
            "1/1 [==============================] - 0s 6ms/step - loss: 3.1662 - mae: 3.1662\n",
            "Epoch 64/100\n",
            "1/1 [==============================] - 0s 5ms/step - loss: 3.0924 - mae: 3.0924\n",
            "Epoch 65/100\n",
            "1/1 [==============================] - 0s 6ms/step - loss: 3.0220 - mae: 3.0220\n",
            "Epoch 66/100\n",
            "1/1 [==============================] - 0s 6ms/step - loss: 2.9468 - mae: 2.9468\n",
            "Epoch 67/100\n",
            "1/1 [==============================] - 0s 9ms/step - loss: 2.8747 - mae: 2.8747\n",
            "Epoch 68/100\n",
            "1/1 [==============================] - 0s 8ms/step - loss: 2.8024 - mae: 2.8024\n",
            "Epoch 69/100\n",
            "1/1 [==============================] - 0s 3ms/step - loss: 2.7299 - mae: 2.7299\n",
            "Epoch 70/100\n",
            "1/1 [==============================] - 0s 12ms/step - loss: 2.6571 - mae: 2.6571\n",
            "Epoch 71/100\n",
            "1/1 [==============================] - 0s 13ms/step - loss: 2.5841 - mae: 2.5841\n",
            "Epoch 72/100\n",
            "1/1 [==============================] - 0s 10ms/step - loss: 2.5110 - mae: 2.5110\n",
            "Epoch 73/100\n",
            "1/1 [==============================] - 0s 6ms/step - loss: 2.4377 - mae: 2.4377\n",
            "Epoch 74/100\n",
            "1/1 [==============================] - 0s 6ms/step - loss: 2.3642 - mae: 2.3642\n",
            "Epoch 75/100\n",
            "1/1 [==============================] - 0s 6ms/step - loss: 2.2906 - mae: 2.2906\n",
            "Epoch 76/100\n",
            "1/1 [==============================] - 0s 6ms/step - loss: 2.2169 - mae: 2.2169\n",
            "Epoch 77/100\n",
            "1/1 [==============================] - 0s 8ms/step - loss: 2.1431 - mae: 2.1431\n",
            "Epoch 78/100\n",
            "1/1 [==============================] - 0s 9ms/step - loss: 2.0692 - mae: 2.0692\n",
            "Epoch 79/100\n",
            "1/1 [==============================] - 0s 6ms/step - loss: 2.0054 - mae: 2.0054\n",
            "Epoch 80/100\n",
            "1/1 [==============================] - 0s 5ms/step - loss: 1.9234 - mae: 1.9234\n",
            "Epoch 81/100\n",
            "1/1 [==============================] - 0s 11ms/step - loss: 1.8512 - mae: 1.8512\n",
            "Epoch 82/100\n",
            "1/1 [==============================] - 0s 6ms/step - loss: 1.7788 - mae: 1.7788\n",
            "Epoch 83/100\n",
            "1/1 [==============================] - 0s 5ms/step - loss: 1.7061 - mae: 1.7061\n",
            "Epoch 84/100\n",
            "1/1 [==============================] - 0s 7ms/step - loss: 1.6331 - mae: 1.6331\n",
            "Epoch 85/100\n",
            "1/1 [==============================] - 0s 7ms/step - loss: 1.5600 - mae: 1.5600\n",
            "Epoch 86/100\n",
            "1/1 [==============================] - 0s 6ms/step - loss: 1.4867 - mae: 1.4867\n",
            "Epoch 87/100\n",
            "1/1 [==============================] - 0s 4ms/step - loss: 1.4132 - mae: 1.4132\n",
            "Epoch 88/100\n",
            "1/1 [==============================] - 0s 6ms/step - loss: 1.3395 - mae: 1.3395\n",
            "Epoch 89/100\n",
            "1/1 [==============================] - 0s 8ms/step - loss: 1.2657 - mae: 1.2657\n",
            "Epoch 90/100\n",
            "1/1 [==============================] - 0s 4ms/step - loss: 1.1918 - mae: 1.1918\n",
            "Epoch 91/100\n",
            "1/1 [==============================] - 0s 9ms/step - loss: 1.1178 - mae: 1.1178\n",
            "Epoch 92/100\n",
            "1/1 [==============================] - 0s 4ms/step - loss: 1.0437 - mae: 1.0437\n",
            "Epoch 93/100\n",
            "1/1 [==============================] - 0s 5ms/step - loss: 0.9695 - mae: 0.9695\n",
            "Epoch 94/100\n",
            "1/1 [==============================] - 0s 6ms/step - loss: 0.8952 - mae: 0.8952\n",
            "Epoch 95/100\n",
            "1/1 [==============================] - 0s 7ms/step - loss: 0.8208 - mae: 0.8208\n",
            "Epoch 96/100\n",
            "1/1 [==============================] - 0s 7ms/step - loss: 0.7464 - mae: 0.7464\n",
            "Epoch 97/100\n",
            "1/1 [==============================] - 0s 4ms/step - loss: 0.6828 - mae: 0.6828\n",
            "Epoch 98/100\n",
            "1/1 [==============================] - 0s 20ms/step - loss: 0.5997 - mae: 0.5997\n",
            "Epoch 99/100\n",
            "1/1 [==============================] - 0s 11ms/step - loss: 0.5291 - mae: 0.5291\n",
            "Epoch 100/100\n",
            "1/1 [==============================] - 0s 4ms/step - loss: 0.4521 - mae: 0.4521\n"
          ],
          "name": "stdout"
        },
        {
          "output_type": "execute_result",
          "data": {
            "text/plain": [
              "<tensorflow.python.keras.callbacks.History at 0x7fbfa0c33d10>"
            ]
          },
          "metadata": {
            "tags": []
          },
          "execution_count": 12
        }
      ]
    },
    {
      "cell_type": "code",
      "metadata": {
        "colab": {
          "base_uri": "https://localhost:8080/"
        },
        "id": "B6dMc2Vd2fo4",
        "outputId": "6a5fd4d2-5e36-482b-b03f-90f1bbb931cc"
      },
      "source": [
        "model_1.predict([17.])"
      ],
      "execution_count": 13,
      "outputs": [
        {
          "output_type": "execute_result",
          "data": {
            "text/plain": [
              "array([[27.497078]], dtype=float32)"
            ]
          },
          "metadata": {
            "tags": []
          },
          "execution_count": 13
        }
      ]
    },
    {
      "cell_type": "code",
      "metadata": {
        "colab": {
          "base_uri": "https://localhost:8080/"
        },
        "id": "Vv41ZKlr2mpj",
        "outputId": "a1a2eeaa-b498-443d-ca5e-238f2b7ff322"
      },
      "source": [
        "# More improving, just add hidden layer\n",
        "\n",
        "model = tf.keras.Sequential([\n",
        "  tf.keras.layers.Dense(100, activation=\"relu\"),\n",
        "  tf.keras.layers.Dense(1)\n",
        "])\n",
        "\n",
        "model.compile(loss=\"mae\",\n",
        "              optimizer=tf.keras.optimizers.SGD(),\n",
        "              metrics=[\"mae\"])\n",
        "\n",
        "model.fit(X, Y, epochs=100)"
      ],
      "execution_count": 14,
      "outputs": [
        {
          "output_type": "stream",
          "text": [
            "Epoch 1/100\n",
            "1/1 [==============================] - 0s 370ms/step - loss: 14.0407 - mae: 14.0407\n",
            "Epoch 2/100\n",
            "1/1 [==============================] - 0s 8ms/step - loss: 13.4800 - mae: 13.4800\n",
            "Epoch 3/100\n",
            "1/1 [==============================] - 0s 6ms/step - loss: 12.9217 - mae: 12.9217\n",
            "Epoch 4/100\n",
            "1/1 [==============================] - 0s 6ms/step - loss: 12.3612 - mae: 12.3612\n",
            "Epoch 5/100\n",
            "1/1 [==============================] - 0s 4ms/step - loss: 11.7937 - mae: 11.7937\n",
            "Epoch 6/100\n",
            "1/1 [==============================] - 0s 5ms/step - loss: 11.2106 - mae: 11.2106\n",
            "Epoch 7/100\n",
            "1/1 [==============================] - 0s 6ms/step - loss: 10.6209 - mae: 10.6209\n",
            "Epoch 8/100\n",
            "1/1 [==============================] - 0s 5ms/step - loss: 10.0058 - mae: 10.0058\n",
            "Epoch 9/100\n",
            "1/1 [==============================] - 0s 7ms/step - loss: 9.3625 - mae: 9.3625\n",
            "Epoch 10/100\n",
            "1/1 [==============================] - 0s 6ms/step - loss: 8.6887 - mae: 8.6887\n",
            "Epoch 11/100\n",
            "1/1 [==============================] - 0s 7ms/step - loss: 7.9730 - mae: 7.9730\n",
            "Epoch 12/100\n",
            "1/1 [==============================] - 0s 4ms/step - loss: 7.2130 - mae: 7.2130\n",
            "Epoch 13/100\n",
            "1/1 [==============================] - 0s 4ms/step - loss: 6.3984 - mae: 6.3984\n",
            "Epoch 14/100\n",
            "1/1 [==============================] - 0s 4ms/step - loss: 5.5215 - mae: 5.5215\n",
            "Epoch 15/100\n",
            "1/1 [==============================] - 0s 4ms/step - loss: 4.5762 - mae: 4.5762\n",
            "Epoch 16/100\n",
            "1/1 [==============================] - 0s 5ms/step - loss: 4.0920 - mae: 4.0920\n",
            "Epoch 17/100\n",
            "1/1 [==============================] - 0s 5ms/step - loss: 4.0292 - mae: 4.0292\n",
            "Epoch 18/100\n",
            "1/1 [==============================] - 0s 7ms/step - loss: 3.9887 - mae: 3.9887\n",
            "Epoch 19/100\n",
            "1/1 [==============================] - 0s 3ms/step - loss: 3.9591 - mae: 3.9591\n",
            "Epoch 20/100\n",
            "1/1 [==============================] - 0s 4ms/step - loss: 3.8951 - mae: 3.8951\n",
            "Epoch 21/100\n",
            "1/1 [==============================] - 0s 4ms/step - loss: 3.9391 - mae: 3.9391\n",
            "Epoch 22/100\n",
            "1/1 [==============================] - 0s 6ms/step - loss: 3.8718 - mae: 3.8718\n",
            "Epoch 23/100\n",
            "1/1 [==============================] - 0s 5ms/step - loss: 3.9498 - mae: 3.9498\n",
            "Epoch 24/100\n",
            "1/1 [==============================] - 0s 19ms/step - loss: 3.8853 - mae: 3.8853\n",
            "Epoch 25/100\n",
            "1/1 [==============================] - 0s 4ms/step - loss: 3.9245 - mae: 3.9245\n",
            "Epoch 26/100\n",
            "1/1 [==============================] - 0s 4ms/step - loss: 3.8929 - mae: 3.8929\n",
            "Epoch 27/100\n",
            "1/1 [==============================] - 0s 4ms/step - loss: 3.8991 - mae: 3.8991\n",
            "Epoch 28/100\n",
            "1/1 [==============================] - 0s 4ms/step - loss: 3.9005 - mae: 3.9005\n",
            "Epoch 29/100\n",
            "1/1 [==============================] - 0s 5ms/step - loss: 3.8734 - mae: 3.8734\n",
            "Epoch 30/100\n",
            "1/1 [==============================] - 0s 4ms/step - loss: 3.9084 - mae: 3.9084\n",
            "Epoch 31/100\n",
            "1/1 [==============================] - 0s 4ms/step - loss: 3.8507 - mae: 3.8507\n",
            "Epoch 32/100\n",
            "1/1 [==============================] - 0s 4ms/step - loss: 3.9226 - mae: 3.9226\n",
            "Epoch 33/100\n",
            "1/1 [==============================] - 0s 6ms/step - loss: 3.8550 - mae: 3.8550\n",
            "Epoch 34/100\n",
            "1/1 [==============================] - 0s 5ms/step - loss: 3.9021 - mae: 3.9021\n",
            "Epoch 35/100\n",
            "1/1 [==============================] - 0s 5ms/step - loss: 3.8628 - mae: 3.8628\n",
            "Epoch 36/100\n",
            "1/1 [==============================] - 0s 4ms/step - loss: 3.8763 - mae: 3.8763\n",
            "Epoch 37/100\n",
            "1/1 [==============================] - 0s 5ms/step - loss: 3.8707 - mae: 3.8707\n",
            "Epoch 38/100\n",
            "1/1 [==============================] - 0s 8ms/step - loss: 3.8504 - mae: 3.8504\n",
            "Epoch 39/100\n",
            "1/1 [==============================] - 0s 5ms/step - loss: 3.8787 - mae: 3.8787\n",
            "Epoch 40/100\n",
            "1/1 [==============================] - 0s 6ms/step - loss: 3.8298 - mae: 3.8298\n",
            "Epoch 41/100\n",
            "1/1 [==============================] - 0s 6ms/step - loss: 3.8932 - mae: 3.8932\n",
            "Epoch 42/100\n",
            "1/1 [==============================] - 0s 5ms/step - loss: 3.8259 - mae: 3.8259\n",
            "Epoch 43/100\n",
            "1/1 [==============================] - 0s 5ms/step - loss: 3.8783 - mae: 3.8783\n",
            "Epoch 44/100\n",
            "1/1 [==============================] - 0s 4ms/step - loss: 3.8339 - mae: 3.8339\n",
            "Epoch 45/100\n",
            "1/1 [==============================] - 0s 5ms/step - loss: 3.8523 - mae: 3.8523\n",
            "Epoch 46/100\n",
            "1/1 [==============================] - 0s 5ms/step - loss: 3.8420 - mae: 3.8420\n",
            "Epoch 47/100\n",
            "1/1 [==============================] - 0s 7ms/step - loss: 3.8262 - mae: 3.8262\n",
            "Epoch 48/100\n",
            "1/1 [==============================] - 0s 5ms/step - loss: 3.8517 - mae: 3.8517\n",
            "Epoch 49/100\n",
            "1/1 [==============================] - 0s 4ms/step - loss: 3.8055 - mae: 3.8055\n",
            "Epoch 50/100\n",
            "1/1 [==============================] - 0s 4ms/step - loss: 3.8648 - mae: 3.8648\n",
            "Epoch 51/100\n",
            "1/1 [==============================] - 0s 4ms/step - loss: 3.7979 - mae: 3.7979\n",
            "Epoch 52/100\n",
            "1/1 [==============================] - 0s 5ms/step - loss: 3.8533 - mae: 3.8533\n",
            "Epoch 53/100\n",
            "1/1 [==============================] - 0s 4ms/step - loss: 3.8061 - mae: 3.8061\n",
            "Epoch 54/100\n",
            "1/1 [==============================] - 0s 5ms/step - loss: 3.8270 - mae: 3.8270\n",
            "Epoch 55/100\n",
            "1/1 [==============================] - 0s 4ms/step - loss: 3.8144 - mae: 3.8144\n",
            "Epoch 56/100\n",
            "1/1 [==============================] - 0s 8ms/step - loss: 3.8006 - mae: 3.8006\n",
            "Epoch 57/100\n",
            "1/1 [==============================] - 0s 7ms/step - loss: 3.8264 - mae: 3.8264\n",
            "Epoch 58/100\n",
            "1/1 [==============================] - 0s 7ms/step - loss: 3.7796 - mae: 3.7796\n",
            "Epoch 59/100\n",
            "1/1 [==============================] - 0s 7ms/step - loss: 3.8376 - mae: 3.8376\n",
            "Epoch 60/100\n",
            "1/1 [==============================] - 0s 5ms/step - loss: 3.7710 - mae: 3.7710\n",
            "Epoch 61/100\n",
            "1/1 [==============================] - 0s 5ms/step - loss: 3.8270 - mae: 3.8270\n",
            "Epoch 62/100\n",
            "1/1 [==============================] - 0s 4ms/step - loss: 3.7794 - mae: 3.7794\n",
            "Epoch 63/100\n",
            "1/1 [==============================] - 0s 5ms/step - loss: 3.8004 - mae: 3.8004\n",
            "Epoch 64/100\n",
            "1/1 [==============================] - 0s 5ms/step - loss: 3.7879 - mae: 3.7879\n",
            "Epoch 65/100\n",
            "1/1 [==============================] - 0s 5ms/step - loss: 3.7737 - mae: 3.7737\n",
            "Epoch 66/100\n",
            "1/1 [==============================] - 0s 5ms/step - loss: 3.8027 - mae: 3.8027\n",
            "Epoch 67/100\n",
            "1/1 [==============================] - 0s 6ms/step - loss: 3.7524 - mae: 3.7524\n",
            "Epoch 68/100\n",
            "1/1 [==============================] - 0s 28ms/step - loss: 3.8114 - mae: 3.8114\n",
            "Epoch 69/100\n",
            "1/1 [==============================] - 0s 12ms/step - loss: 3.7451 - mae: 3.7451\n",
            "Epoch 70/100\n",
            "1/1 [==============================] - 0s 7ms/step - loss: 3.7994 - mae: 3.7994\n",
            "Epoch 71/100\n",
            "1/1 [==============================] - 0s 18ms/step - loss: 3.7537 - mae: 3.7537\n",
            "Epoch 72/100\n",
            "1/1 [==============================] - 0s 8ms/step - loss: 3.7726 - mae: 3.7726\n",
            "Epoch 73/100\n",
            "1/1 [==============================] - 0s 9ms/step - loss: 3.7624 - mae: 3.7624\n",
            "Epoch 74/100\n",
            "1/1 [==============================] - 0s 10ms/step - loss: 3.7474 - mae: 3.7474\n",
            "Epoch 75/100\n",
            "1/1 [==============================] - 0s 7ms/step - loss: 3.7774 - mae: 3.7774\n",
            "Epoch 76/100\n",
            "1/1 [==============================] - 0s 7ms/step - loss: 3.7238 - mae: 3.7238\n",
            "Epoch 77/100\n",
            "1/1 [==============================] - 0s 6ms/step - loss: 3.7863 - mae: 3.7863\n",
            "Epoch 78/100\n",
            "1/1 [==============================] - 0s 6ms/step - loss: 3.7203 - mae: 3.7203\n",
            "Epoch 79/100\n",
            "1/1 [==============================] - 0s 5ms/step - loss: 3.7705 - mae: 3.7705\n",
            "Epoch 80/100\n",
            "1/1 [==============================] - 0s 6ms/step - loss: 3.7290 - mae: 3.7290\n",
            "Epoch 81/100\n",
            "1/1 [==============================] - 0s 4ms/step - loss: 3.7433 - mae: 3.7433\n",
            "Epoch 82/100\n",
            "1/1 [==============================] - 0s 5ms/step - loss: 3.7379 - mae: 3.7379\n",
            "Epoch 83/100\n",
            "1/1 [==============================] - 0s 6ms/step - loss: 3.7196 - mae: 3.7196\n",
            "Epoch 84/100\n",
            "1/1 [==============================] - 0s 6ms/step - loss: 3.7531 - mae: 3.7531\n",
            "Epoch 85/100\n",
            "1/1 [==============================] - 0s 3ms/step - loss: 3.6939 - mae: 3.6939\n",
            "Epoch 86/100\n",
            "1/1 [==============================] - 0s 13ms/step - loss: 3.7622 - mae: 3.7622\n",
            "Epoch 87/100\n",
            "1/1 [==============================] - 0s 5ms/step - loss: 3.6964 - mae: 3.6964\n",
            "Epoch 88/100\n",
            "1/1 [==============================] - 0s 5ms/step - loss: 3.7403 - mae: 3.7403\n",
            "Epoch 89/100\n",
            "1/1 [==============================] - 0s 6ms/step - loss: 3.7054 - mae: 3.7054\n",
            "Epoch 90/100\n",
            "1/1 [==============================] - 0s 4ms/step - loss: 3.7128 - mae: 3.7128\n",
            "Epoch 91/100\n",
            "1/1 [==============================] - 0s 5ms/step - loss: 3.7145 - mae: 3.7145\n",
            "Epoch 92/100\n",
            "1/1 [==============================] - 0s 5ms/step - loss: 3.6903 - mae: 3.6903\n",
            "Epoch 93/100\n",
            "1/1 [==============================] - 0s 5ms/step - loss: 3.7299 - mae: 3.7299\n",
            "Epoch 94/100\n",
            "1/1 [==============================] - 0s 7ms/step - loss: 3.6645 - mae: 3.6645\n",
            "Epoch 95/100\n",
            "1/1 [==============================] - 0s 12ms/step - loss: 3.7364 - mae: 3.7364\n",
            "Epoch 96/100\n",
            "1/1 [==============================] - 0s 5ms/step - loss: 3.6735 - mae: 3.6735\n",
            "Epoch 97/100\n",
            "1/1 [==============================] - 0s 8ms/step - loss: 3.7087 - mae: 3.7087\n",
            "Epoch 98/100\n",
            "1/1 [==============================] - 0s 11ms/step - loss: 3.6827 - mae: 3.6827\n",
            "Epoch 99/100\n",
            "1/1 [==============================] - 0s 4ms/step - loss: 3.6808 - mae: 3.6808\n",
            "Epoch 100/100\n",
            "1/1 [==============================] - 0s 4ms/step - loss: 3.6927 - mae: 3.6927\n"
          ],
          "name": "stdout"
        },
        {
          "output_type": "execute_result",
          "data": {
            "text/plain": [
              "<tensorflow.python.keras.callbacks.History at 0x7fbf9fb32f90>"
            ]
          },
          "metadata": {
            "tags": []
          },
          "execution_count": 14
        }
      ]
    },
    {
      "cell_type": "code",
      "metadata": {
        "colab": {
          "base_uri": "https://localhost:8080/"
        },
        "id": "00PYaRtg5ijb",
        "outputId": "edd8adce-93a9-4bc4-cd87-819f2b67faea"
      },
      "source": [
        "model.predict([17.0])"
      ],
      "execution_count": 15,
      "outputs": [
        {
          "output_type": "execute_result",
          "data": {
            "text/plain": [
              "array([[31.727652]], dtype=float32)"
            ]
          },
          "metadata": {
            "tags": []
          },
          "execution_count": 15
        }
      ]
    },
    {
      "cell_type": "markdown",
      "metadata": {
        "id": "I_VuGkFF5orQ"
      },
      "source": [
        "### Common ways to improve a deep model:\n",
        "\n",
        "* adding layers\n",
        "* increase the number of hidden units\n",
        "* change the activation functions\n",
        "* change the omptimization function\n",
        "* change the learning rate (lr) (on Adam) (potentially the most important yperparamater of many learning models)\n",
        "* fitting more data\n",
        "* fitting for longer (add epochs)"
      ]
    },
    {
      "cell_type": "markdown",
      "metadata": {
        "id": "Xshk_Vok7GbT"
      },
      "source": [
        "## Evaluating a model\n",
        "\n",
        "In practice, a typical workflow you'll go through when building neural networks is:\n",
        "\n",
        "```\n",
        "build a model -> fit it -> evaluate it -> tweek it -> fit it -> evaluate it -> tweek it... ect...\n",
        "```"
      ]
    },
    {
      "cell_type": "markdown",
      "metadata": {
        "id": "ZVwlUbEh7z5s"
      },
      "source": [
        "### when it comes to evaluation... there are three words you should memorize:\n",
        "\n",
        "> \"Visualize, visualize, visualize\"\n",
        "\n",
        "its a good idea to visualize:\n",
        "* the data - what data are we working with? what does it look like?\n",
        "* the model itself - what does our model look like?\n",
        "* the training of a model - how does a model perform while it learns?\n",
        "* the predictions of the model - how do the predictions of a model line up against the ground truth (the original labels)?\n"
      ]
    },
    {
      "cell_type": "code",
      "metadata": {
        "colab": {
          "base_uri": "https://localhost:8080/"
        },
        "id": "4lPWFqTn9WAu",
        "outputId": "7a0b3bfe-b595-4991-e874-083ee56ac6c2"
      },
      "source": [
        "# Make a bigger dataset\n",
        "X = tf.range(-100, 100, 4)\n",
        "X"
      ],
      "execution_count": 16,
      "outputs": [
        {
          "output_type": "execute_result",
          "data": {
            "text/plain": [
              "<tf.Tensor: shape=(50,), dtype=int32, numpy=\n",
              "array([-100,  -96,  -92,  -88,  -84,  -80,  -76,  -72,  -68,  -64,  -60,\n",
              "        -56,  -52,  -48,  -44,  -40,  -36,  -32,  -28,  -24,  -20,  -16,\n",
              "        -12,   -8,   -4,    0,    4,    8,   12,   16,   20,   24,   28,\n",
              "         32,   36,   40,   44,   48,   52,   56,   60,   64,   68,   72,\n",
              "         76,   80,   84,   88,   92,   96], dtype=int32)>"
            ]
          },
          "metadata": {
            "tags": []
          },
          "execution_count": 16
        }
      ]
    },
    {
      "cell_type": "code",
      "metadata": {
        "colab": {
          "base_uri": "https://localhost:8080/"
        },
        "id": "D4RVWMVb9fYd",
        "outputId": "103fc093-8091-42f1-868e-6e3a928c7ab5"
      },
      "source": [
        "# Make labels for the dataset\n",
        "Y = X + 10\n",
        "Y\n"
      ],
      "execution_count": 17,
      "outputs": [
        {
          "output_type": "execute_result",
          "data": {
            "text/plain": [
              "<tf.Tensor: shape=(50,), dtype=int32, numpy=\n",
              "array([-90, -86, -82, -78, -74, -70, -66, -62, -58, -54, -50, -46, -42,\n",
              "       -38, -34, -30, -26, -22, -18, -14, -10,  -6,  -2,   2,   6,  10,\n",
              "        14,  18,  22,  26,  30,  34,  38,  42,  46,  50,  54,  58,  62,\n",
              "        66,  70,  74,  78,  82,  86,  90,  94,  98, 102, 106], dtype=int32)>"
            ]
          },
          "metadata": {
            "tags": []
          },
          "execution_count": 17
        }
      ]
    },
    {
      "cell_type": "code",
      "metadata": {
        "colab": {
          "base_uri": "https://localhost:8080/",
          "height": 283
        },
        "id": "7z1Xs9ED9oct",
        "outputId": "892e9a18-eec6-4c94-8975-f9e16c476834"
      },
      "source": [
        "# Visualize the data\n",
        "import matplotlib.pyplot as plt\n",
        "plt.scatter(X, Y)"
      ],
      "execution_count": 18,
      "outputs": [
        {
          "output_type": "execute_result",
          "data": {
            "text/plain": [
              "<matplotlib.collections.PathCollection at 0x7fbf9dcb1890>"
            ]
          },
          "metadata": {
            "tags": []
          },
          "execution_count": 18
        },
        {
          "output_type": "display_data",
          "data": {
            "image/png": "[encoded data removed]",
            "text/plain": [
              "<Figure size 432x288 with 1 Axes>"
            ]
          },
          "metadata": {
            "tags": [],
            "needs_background": "light"
          }
        }
      ]
    },
    {
      "cell_type": "markdown",
      "metadata": {
        "id": "D7J9Osjb9x8v"
      },
      "source": [
        "# The three sets... (possibly the most important concept in machine learning)\n",
        "\n",
        "* **Training set** - the model learns from this data, which is typically 70-80% of the total data you have available\n",
        "  * (course materials)\n",
        "* **Validation set** - the model gets tuned on this data, which is typically 10-15% of the data available.\n",
        "  * (Practice exam)\n",
        "* **Test set** - the model gets evaluated on this data to test what has been learned, this set is typically 10-15% of the total data available.\n",
        "  * (final exam)"
      ]
    },
    {
      "cell_type": "code",
      "metadata": {
        "colab": {
          "base_uri": "https://localhost:8080/"
        },
        "id": "7evvzqKI-lGg",
        "outputId": "604a95fb-1cb1-4b5c-8bcd-01776a79b634"
      },
      "source": [
        "# check the length of how many samples we have\n",
        "len(X)\n"
      ],
      "execution_count": 19,
      "outputs": [
        {
          "output_type": "execute_result",
          "data": {
            "text/plain": [
              "50"
            ]
          },
          "metadata": {
            "tags": []
          },
          "execution_count": 19
        }
      ]
    },
    {
      "cell_type": "code",
      "metadata": {
        "colab": {
          "base_uri": "https://localhost:8080/"
        },
        "id": "IeTSaoB7_Nlp",
        "outputId": "a0b1742b-d11c-4c3f-e094-1732d2d131eb"
      },
      "source": [
        "# Split the data into train at test sets\n",
        "x_train = X[:40] # first 40 are training sampels (80% of the data)\n",
        "y_train = Y[:40]\n",
        "\n",
        "x_test = X [40:] # last 10 are testing samples (20% of the data)\n",
        "y_test = Y[40:]\n",
        "\n",
        "len(x_train), len(x_test), len(y_train), len(y_test)"
      ],
      "execution_count": 20,
      "outputs": [
        {
          "output_type": "execute_result",
          "data": {
            "text/plain": [
              "(40, 10, 40, 10)"
            ]
          },
          "metadata": {
            "tags": []
          },
          "execution_count": 20
        }
      ]
    },
    {
      "cell_type": "markdown",
      "metadata": {
        "id": "FqOKhVXOFzhl"
      },
      "source": [
        "### Visualizing the data\n",
        "\n",
        "Now we've got our data in training and test sets... let's visualize it again!"
      ]
    },
    {
      "cell_type": "code",
      "metadata": {
        "colab": {
          "base_uri": "https://localhost:8080/",
          "height": 428
        },
        "id": "-RqB1YasGXfv",
        "outputId": "e825c3a4-1c65-4db3-f59a-c65f61227825"
      },
      "source": [
        "plt.figure(figsize=(10, 7))\n",
        "# Plot training data in blue\n",
        "plt.scatter(x_train, y_train, c=\"b\", label=\"Training data\")\n",
        "#plot test data in green\n",
        "plt.scatter(x_test, y_test, c=\"g\", label=\"Testing data\")\n",
        "plt.legend();"
      ],
      "execution_count": 21,
      "outputs": [
        {
          "output_type": "display_data",
          "data": {
            "image/png": "[encoded data removed]",
            "text/plain": [
              "<Figure size 720x504 with 1 Axes>"
            ]
          },
          "metadata": {
            "tags": [],
            "needs_background": "light"
          }
        }
      ]
    },
    {
      "cell_type": "code",
      "metadata": {
        "id": "7jsduZ2iG684"
      },
      "source": [
        "# Let's have a look at how to build a neural network\n",
        "\n",
        "# 1. Creat the model\n",
        "model = tf.keras.Sequential([\n",
        "  tf.keras.layers.Dense(1)\n",
        "])\n",
        "\n",
        "# 2. Compile the model\n",
        "model.compile(loss=tf.keras.losses.mae,\n",
        "              optimizer=tf.keras.optimizers.SGD(),\n",
        "              metrics=[\"mae\"])\n",
        "\n",
        "# 3. Fit the model\n",
        "# model.fit(x_train, y_train, epochs=100)"
      ],
      "execution_count": 28,
      "outputs": []
    },
    {
      "cell_type": "code",
      "metadata": {
        "colab": {
          "base_uri": "https://localhost:8080/",
          "height": 318
        },
        "id": "gmbeVnDQH7lz",
        "outputId": "c72f9496-2fc1-4282-d981-77735822f52d"
      },
      "source": [
        "model.summary()"
      ],
      "execution_count": 29,
      "outputs": [
        {
          "output_type": "error",
          "ename": "ValueError",
          "evalue": "ignored",
          "traceback": [
            "\u001b[0;31m---------------------------------------------------------------------------\u001b[0m",
            "\u001b[0;31mValueError\u001b[0m                                Traceback (most recent call last)",
            "\u001b[0;32m<ipython-input-29-5f15418b3570>\u001b[0m in \u001b[0;36m<module>\u001b[0;34m()\u001b[0m\n\u001b[0;32m----> 1\u001b[0;31m \u001b[0mmodel\u001b[0m\u001b[0;34m.\u001b[0m\u001b[0msummary\u001b[0m\u001b[0;34m(\u001b[0m\u001b[0;34m)\u001b[0m\u001b[0;34m\u001b[0m\u001b[0;34m\u001b[0m\u001b[0m\n\u001b[0m",
            "\u001b[0;32m/usr/local/lib/python3.7/dist-packages/tensorflow/python/keras/engine/training.py\u001b[0m in \u001b[0;36msummary\u001b[0;34m(self, line_length, positions, print_fn)\u001b[0m\n\u001b[1;32m   2475\u001b[0m     \"\"\"\n\u001b[1;32m   2476\u001b[0m     \u001b[0;32mif\u001b[0m \u001b[0;32mnot\u001b[0m \u001b[0mself\u001b[0m\u001b[0;34m.\u001b[0m\u001b[0mbuilt\u001b[0m\u001b[0;34m:\u001b[0m\u001b[0;34m\u001b[0m\u001b[0;34m\u001b[0m\u001b[0m\n\u001b[0;32m-> 2477\u001b[0;31m       raise ValueError('This model has not yet been built. '\n\u001b[0m\u001b[1;32m   2478\u001b[0m                        \u001b[0;34m'Build the model first by calling `build()` or calling '\u001b[0m\u001b[0;34m\u001b[0m\u001b[0;34m\u001b[0m\u001b[0m\n\u001b[1;32m   2479\u001b[0m                        \u001b[0;34m'`fit()` with some data, or specify '\u001b[0m\u001b[0;34m\u001b[0m\u001b[0;34m\u001b[0m\u001b[0m\n",
            "\u001b[0;31mValueError\u001b[0m: This model has not yet been built. Build the model first by calling `build()` or calling `fit()` with some data, or specify an `input_shape` argument in the first layer(s) for automatic build."
          ]
        }
      ]
    },
    {
      "cell_type": "code",
      "metadata": {
        "id": "S8RkkDvzID-z"
      },
      "source": [
        "# Let's create a model which builds automatically by defining the imput_shape argument\n",
        "# create a model (same as above)\n",
        "model = tf.keras.Sequential([\n",
        "  tf.keras.layers.Dense(1, input_shape=[1], name=\"input_layer\"),\n",
        "  tf.keras.layers.Dense(1, name=\"output_layer\")\n",
        "], name=\"model_1\")\n",
        "\n",
        "# 2. Compile the model\n",
        "model.compile(loss=tf.keras.losses.mae,\n",
        "              optimizer=tf.keras.optimizers.SGD(),\n",
        "              metrics=[\"mae\"])"
      ],
      "execution_count": 30,
      "outputs": []
    },
    {
      "cell_type": "code",
      "metadata": {
        "colab": {
          "base_uri": "https://localhost:8080/"
        },
        "id": "E9LVLGbsI3Xz",
        "outputId": "152483ea-daf3-4d44-91d8-09a63177a8fb"
      },
      "source": [
        "model.summary()"
      ],
      "execution_count": 31,
      "outputs": [
        {
          "output_type": "stream",
          "text": [
            "Model: \"model_1\"\n",
            "_________________________________________________________________\n",
            "Layer (type)                 Output Shape              Param #   \n",
            "=================================================================\n",
            "input_layer (Dense)          (None, 1)                 2         \n",
            "_________________________________________________________________\n",
            "output_layer (Dense)         (None, 1)                 2         \n",
            "=================================================================\n",
            "Total params: 4\n",
            "Trainable params: 4\n",
            "Non-trainable params: 0\n",
            "_________________________________________________________________\n"
          ],
          "name": "stdout"
        }
      ]
    },
    {
      "cell_type": "markdown",
      "metadata": {
        "id": "oPmb1S1gI9kY"
      },
      "source": [
        "* Total params - total number of parameters in the model.\n",
        "* Trainable params - these are the parameters (patterns) the model can update as it trains\n",
        "* Non-trainable params - these parameters aren't updated during training (this is typical when you bring in already learned patterns or parameters from other models during **transfer learning**."
      ]
    },
    {
      "cell_type": "code",
      "metadata": {
        "colab": {
          "base_uri": "https://localhost:8080/"
        },
        "id": "9VP88D5JJ-Qg",
        "outputId": "11e3603c-ef09-4531-ddc5-c1cff148f93e"
      },
      "source": [
        "# Let's fit our model to the training data\n",
        "model.fit(x_train, y_train, epochs=100, verbose=0)"
      ],
      "execution_count": 32,
      "outputs": [
        {
          "output_type": "execute_result",
          "data": {
            "text/plain": [
              "<tensorflow.python.keras.callbacks.History at 0x7fbf9dac8650>"
            ]
          },
          "metadata": {
            "tags": []
          },
          "execution_count": 32
        }
      ]
    },
    {
      "cell_type": "code",
      "metadata": {
        "colab": {
          "base_uri": "https://localhost:8080/"
        },
        "id": "EI_hINwNNCH6",
        "outputId": "29d31a9d-2d0a-40b4-cc13-6e82e28a508c"
      },
      "source": [
        "# Get a summary of our model\n",
        "model.summary()"
      ],
      "execution_count": 33,
      "outputs": [
        {
          "output_type": "stream",
          "text": [
            "Model: \"model_1\"\n",
            "_________________________________________________________________\n",
            "Layer (type)                 Output Shape              Param #   \n",
            "=================================================================\n",
            "input_layer (Dense)          (None, 1)                 2         \n",
            "_________________________________________________________________\n",
            "output_layer (Dense)         (None, 1)                 2         \n",
            "=================================================================\n",
            "Total params: 4\n",
            "Trainable params: 4\n",
            "Non-trainable params: 0\n",
            "_________________________________________________________________\n"
          ],
          "name": "stdout"
        }
      ]
    },
    {
      "cell_type": "code",
      "metadata": {
        "colab": {
          "base_uri": "https://localhost:8080/",
          "height": 312
        },
        "id": "2nMbr4FnNUjv",
        "outputId": "3009aad0-54ec-4363-ae93-f61fa42febce"
      },
      "source": [
        "from tensorflow.keras.utils import plot_model\n",
        "plot_model(model=model, show_shapes=True)"
      ],
      "execution_count": 34,
      "outputs": [
        {
          "output_type": "execute_result",
          "data": {
            "image/png": "[encoded data removed]",
            "text/plain": [
              "<IPython.core.display.Image object>"
            ]
          },
          "metadata": {
            "tags": []
          },
          "execution_count": 34
        }
      ]
    },
    {
      "cell_type": "markdown",
      "metadata": {
        "id": "16mlZGO2nA-X"
      },
      "source": [
        "### Visualizing our model's predictions\n",
        "\n",
        "To visualize predictions, it's a good idea to plot them against the ground truth labels.\n",
        "\n",
        "Often you'll see this in the form of `y_test` or `y_true` vs `y_pred` (ground truth versus your model's predictions).\n"
      ]
    },
    {
      "cell_type": "code",
      "metadata": {
        "colab": {
          "base_uri": "https://localhost:8080/"
        },
        "id": "I4l_7WCEpDCP",
        "outputId": "7b3765f8-4714-4aa3-86fb-4be5660ae41b"
      },
      "source": [
        "# Make some predictions\n",
        "y_pred = model.predict(x_test)\n",
        "y_pred"
      ],
      "execution_count": 35,
      "outputs": [
        {
          "output_type": "stream",
          "text": [
            "WARNING:tensorflow:5 out of the last 5 calls to <function Model.make_predict_function.<locals>.predict_function at 0x7fbf9d206b00> triggered tf.function retracing. Tracing is expensive and the excessive number of tracings could be due to (1) creating @tf.function repeatedly in a loop, (2) passing tensors with different shapes, (3) passing Python objects instead of tensors. For (1), please define your @tf.function outside of the loop. For (2), @tf.function has experimental_relax_shapes=True option that relaxes argument shapes that can avoid unnecessary retracing. For (3), please refer to https://www.tensorflow.org/guide/function#controlling_retracing and https://www.tensorflow.org/api_docs/python/tf/function for  more details.\n"
          ],
          "name": "stdout"
        },
        {
          "output_type": "execute_result",
          "data": {
            "text/plain": [
              "array([[ 76.405556],\n",
              "       [ 81.3829  ],\n",
              "       [ 86.360245],\n",
              "       [ 91.337585],\n",
              "       [ 96.31493 ],\n",
              "       [101.292274],\n",
              "       [106.269615],\n",
              "       [111.246956],\n",
              "       [116.2243  ],\n",
              "       [121.201645]], dtype=float32)"
            ]
          },
          "metadata": {
            "tags": []
          },
          "execution_count": 35
        }
      ]
    },
    {
      "cell_type": "code",
      "metadata": {
        "colab": {
          "base_uri": "https://localhost:8080/"
        },
        "id": "Mg3vYLoept3J",
        "outputId": "769b52de-3829-4712-ed57-2bf9bda964e2"
      },
      "source": [
        "y_test"
      ],
      "execution_count": 36,
      "outputs": [
        {
          "output_type": "execute_result",
          "data": {
            "text/plain": [
              "<tf.Tensor: shape=(10,), dtype=int32, numpy=array([ 70,  74,  78,  82,  86,  90,  94,  98, 102, 106], dtype=int32)>"
            ]
          },
          "metadata": {
            "tags": []
          },
          "execution_count": 36
        }
      ]
    },
    {
      "cell_type": "markdown",
      "metadata": {
        "id": "KUsF-ZMbqE_1"
      },
      "source": [
        "### **Note:** If you feel like you're going to reuse some kind of functionality in the future, its' a good idea to turn it into a function."
      ]
    },
    {
      "cell_type": "code",
      "metadata": {
        "id": "WfJrCjLap1aa"
      },
      "source": [
        "# Let's create a plotting function\n",
        "def plot_predictions(train_data=x_train,\n",
        "                     train_labels=y_train,\n",
        "                     test_data=x_test,\n",
        "                     test_labels=y_test,\n",
        "                     predictions=y_pred):\n",
        "  \"\"\"\n",
        "  Plots training data, test data and compares predictions to ground truth 1\n",
        "  \"\"\"\n",
        "  plt.figure(figsize=(10, 7))\n",
        "  # Plot training data in blue\n",
        "  plt.scatter(train_data, train_labels, c=\"b\", label=\"Training data\")\n",
        "  # Plot testing data in green\n",
        "  plt.scatter(test_data, test_labels, c=\"g\", label=\"Testing data\")\n",
        "  # Plot model's predictions in red\n",
        "  plt.scatter(test_data, predictions, c=\"r\", label=\"Predictions\")\n",
        "  #Show the legend\n",
        "  plt.legend();"
      ],
      "execution_count": 37,
      "outputs": []
    },
    {
      "cell_type": "code",
      "metadata": {
        "colab": {
          "base_uri": "https://localhost:8080/",
          "height": 428
        },
        "id": "pDveZPSbq30_",
        "outputId": "5419d53f-58d6-40d0-f33b-7c3e3fab6469"
      },
      "source": [
        "plot_predictions()"
      ],
      "execution_count": 38,
      "outputs": [
        {
          "output_type": "display_data",
          "data": {
            "image/png": "[encoded data removed]",
            "text/plain": [
              "<Figure size 720x504 with 1 Axes>"
            ]
          },
          "metadata": {
            "tags": [],
            "needs_background": "light"
          }
        }
      ]
    },
    {
      "cell_type": "markdown",
      "metadata": {
        "id": "3WrgRg5GsxDN"
      },
      "source": [
        "### Evaluating our model's predictions with regression evaluation metrics\n",
        "\n",
        "Depending on the problem you're working on, there will be different evaluation metrics to evaluate your model's performence.\n",
        "\n",
        "Since we're working on a regression, two of the main metrics\"\n",
        "* MAE - mean absolute error, \"on average, how lwrong is each of my model's predictions\"\n",
        "  * Great as a starter\n",
        "* MSE - mean square error, \"square the average errors\"\n",
        "  * When larger errors are more significant than smaller errors\n",
        "* Huber - Combination of MSE and MAE. \n",
        "  * Less sensitive to outliers than MSE"
      ]
    },
    {
      "cell_type": "code",
      "metadata": {
        "colab": {
          "base_uri": "https://localhost:8080/"
        },
        "id": "dDtQk6-VuOhL",
        "outputId": "2f0eff99-50c1-4833-8176-fb5c7eebc954"
      },
      "source": [
        "# Evaluate the model on the test set\n",
        "model.evaluate(x_test, y_test)"
      ],
      "execution_count": 39,
      "outputs": [
        {
          "output_type": "stream",
          "text": [
            "1/1 [==============================] - 0s 120ms/step - loss: 10.8036 - mae: 10.8036\n"
          ],
          "name": "stdout"
        },
        {
          "output_type": "execute_result",
          "data": {
            "text/plain": [
              "[10.803600311279297, 10.803600311279297]"
            ]
          },
          "metadata": {
            "tags": []
          },
          "execution_count": 39
        }
      ]
    },
    {
      "cell_type": "code",
      "metadata": {
        "colab": {
          "base_uri": "https://localhost:8080/"
        },
        "id": "SqiAb4sCxsuW",
        "outputId": "91152d6b-b427-47ad-cbbc-1085a9f21594"
      },
      "source": [
        "# Calculate the mean absolute error\n",
        "tf.metrics.mean_absolute_error(y_test, tf.squeeze(y_pred))"
      ],
      "execution_count": 40,
      "outputs": [
        {
          "output_type": "execute_result",
          "data": {
            "text/plain": [
              "<tf.Tensor: shape=(), dtype=float32, numpy=10.8036>"
            ]
          },
          "metadata": {
            "tags": []
          },
          "execution_count": 40
        }
      ]
    },
    {
      "cell_type": "code",
      "metadata": {
        "colab": {
          "base_uri": "https://localhost:8080/"
        },
        "id": "1_2WQ9I2yPAO",
        "outputId": "2d7fc2fb-da78-4fee-b396-6f0aa1caa0e1"
      },
      "source": [
        "y_pred"
      ],
      "execution_count": 41,
      "outputs": [
        {
          "output_type": "execute_result",
          "data": {
            "text/plain": [
              "array([[ 76.405556],\n",
              "       [ 81.3829  ],\n",
              "       [ 86.360245],\n",
              "       [ 91.337585],\n",
              "       [ 96.31493 ],\n",
              "       [101.292274],\n",
              "       [106.269615],\n",
              "       [111.246956],\n",
              "       [116.2243  ],\n",
              "       [121.201645]], dtype=float32)"
            ]
          },
          "metadata": {
            "tags": []
          },
          "execution_count": 41
        }
      ]
    },
    {
      "cell_type": "code",
      "metadata": {
        "colab": {
          "base_uri": "https://localhost:8080/"
        },
        "id": "FrD9V5zcy6Gv",
        "outputId": "bd6beb04-256c-4101-fbbb-e740f601a0d2"
      },
      "source": [
        "y_test"
      ],
      "execution_count": 42,
      "outputs": [
        {
          "output_type": "execute_result",
          "data": {
            "text/plain": [
              "<tf.Tensor: shape=(10,), dtype=int32, numpy=array([ 70,  74,  78,  82,  86,  90,  94,  98, 102, 106], dtype=int32)>"
            ]
          },
          "metadata": {
            "tags": []
          },
          "execution_count": 42
        }
      ]
    },
    {
      "cell_type": "code",
      "metadata": {
        "colab": {
          "base_uri": "https://localhost:8080/"
        },
        "id": "Daus8LVVy668",
        "outputId": "4be9efcd-0c5c-435f-d763-801809f13bb9"
      },
      "source": [
        "# Caluculate the mean square error\n",
        "tf.metrics.mean_squared_error(y_true=y_test,\n",
        "                              y_pred=tf.squeeze(y_pred))\n"
      ],
      "execution_count": 43,
      "outputs": [
        {
          "output_type": "execute_result",
          "data": {
            "text/plain": [
              "<tf.Tensor: shape=(), dtype=float32, numpy=124.59817>"
            ]
          },
          "metadata": {
            "tags": []
          },
          "execution_count": 43
        }
      ]
    },
    {
      "cell_type": "code",
      "metadata": {
        "id": "lG9a3tuC1NeD"
      },
      "source": [
        "# Make some functions to reuse MAE and MSE\n",
        "def mae(y_true, y_pred):\n",
        "  return tf.metrics.mean_absolute_error(y_true=y_true,\n",
        "                                        y_pred=tf.squeeze(y_pred))\n",
        "  \n",
        "def mse(y_true, y_pred):\n",
        "  return tf.metrics.mean_squared_error(y_true=y_true,\n",
        "                                       y_pred=tf.squeeze(y_pred))\n"
      ],
      "execution_count": 44,
      "outputs": []
    },
    {
      "cell_type": "markdown",
      "metadata": {
        "id": "Rn9Y52Vh21xq"
      },
      "source": [
        "### Running experiments to improve our model\n",
        "\n",
        "```\n",
        "Build a model -> fit it -> evaluate it -> tweak it -> fit it -> evaluate it -> tweak it ect...\n",
        "```\n",
        "\n",
        "1. Get more data - get more examples for your model to train on (more opportunities to learn patterns or relationships between features and labels).\n",
        "2. Make your model larger (using a more complex model) - this might come int the form of more layers or more hidden units in each layer\n",
        "3. Train for longer - give your model more of a chance to find patterns in the data.\n",
        "\n",
        "Let's do 3 modelling experiments:\n",
        "\n",
        "1. `model_1` - same as the original model, 1 layer, trainded for 100 epochs\n",
        "2. `model_2` - 2 layers, trained for 100 epochs\n",
        "3. `model_3` - 2 layers, trained for 500 epochs"
      ]
    },
    {
      "cell_type": "code",
      "metadata": {
        "colab": {
          "base_uri": "https://localhost:8080/"
        },
        "id": "XEMWRs0y3aEZ",
        "outputId": "5985e358-ec86-4d4e-9ffe-8b495f05a2bc"
      },
      "source": [
        "# Set the random seed\n",
        "tf.random.set_seed(42)\n",
        "\n",
        "# 1. Create the model\n",
        "model_1 = tf.keras.Sequential([\n",
        "  tf.keras.layers.Dense(1)\n",
        "])\n",
        "\n",
        "# 2. compile the model\n",
        "model_1.compile(loss=tf.keras.losses.mae,\n",
        "                optimizer=tf.keras.optimizers.SGD(),\n",
        "                metrics=[\"mae\"])\n",
        "\n",
        "# 3. Fit the model\n",
        "model_1.fit(x_train, y_train, epochs=100)"
      ],
      "execution_count": 45,
      "outputs": [
        {
          "output_type": "stream",
          "text": [
            "Epoch 1/100\n",
            "2/2 [==============================] - 0s 5ms/step - loss: 15.9024 - mae: 15.9024\n",
            "Epoch 2/100\n",
            "2/2 [==============================] - 0s 5ms/step - loss: 11.2837 - mae: 11.2837\n",
            "Epoch 3/100\n",
            "2/2 [==============================] - 0s 7ms/step - loss: 11.1074 - mae: 11.1074\n",
            "Epoch 4/100\n",
            "2/2 [==============================] - 0s 5ms/step - loss: 9.2991 - mae: 9.2991\n",
            "Epoch 5/100\n",
            "2/2 [==============================] - 0s 4ms/step - loss: 10.1677 - mae: 10.1677\n",
            "Epoch 6/100\n",
            "2/2 [==============================] - 0s 11ms/step - loss: 9.4303 - mae: 9.4303\n",
            "Epoch 7/100\n",
            "2/2 [==============================] - 0s 5ms/step - loss: 8.5704 - mae: 8.5704\n",
            "Epoch 8/100\n",
            "2/2 [==============================] - 0s 4ms/step - loss: 9.0442 - mae: 9.0442\n",
            "Epoch 9/100\n",
            "2/2 [==============================] - 0s 6ms/step - loss: 18.7517 - mae: 18.7517\n",
            "Epoch 10/100\n",
            "2/2 [==============================] - 0s 3ms/step - loss: 10.1142 - mae: 10.1142\n",
            "Epoch 11/100\n",
            "2/2 [==============================] - 0s 3ms/step - loss: 8.3980 - mae: 8.3980\n",
            "Epoch 12/100\n",
            "2/2 [==============================] - 0s 3ms/step - loss: 10.6639 - mae: 10.6639\n",
            "Epoch 13/100\n",
            "2/2 [==============================] - 0s 4ms/step - loss: 9.7977 - mae: 9.7977\n",
            "Epoch 14/100\n",
            "2/2 [==============================] - 0s 22ms/step - loss: 16.0103 - mae: 16.0103\n",
            "Epoch 15/100\n",
            "2/2 [==============================] - 0s 9ms/step - loss: 11.4068 - mae: 11.4068\n",
            "Epoch 16/100\n",
            "2/2 [==============================] - 0s 8ms/step - loss: 8.5393 - mae: 8.5393\n",
            "Epoch 17/100\n",
            "2/2 [==============================] - 0s 10ms/step - loss: 13.6348 - mae: 13.6348\n",
            "Epoch 18/100\n",
            "2/2 [==============================] - 0s 6ms/step - loss: 11.4629 - mae: 11.4629\n",
            "Epoch 19/100\n",
            "2/2 [==============================] - 0s 5ms/step - loss: 17.9148 - mae: 17.9148\n",
            "Epoch 20/100\n",
            "2/2 [==============================] - 0s 4ms/step - loss: 15.0494 - mae: 15.0494\n",
            "Epoch 21/100\n",
            "2/2 [==============================] - 0s 4ms/step - loss: 11.0216 - mae: 11.0216\n",
            "Epoch 22/100\n",
            "2/2 [==============================] - 0s 7ms/step - loss: 8.1558 - mae: 8.1558\n",
            "Epoch 23/100\n",
            "2/2 [==============================] - 0s 8ms/step - loss: 9.5138 - mae: 9.5138\n",
            "Epoch 24/100\n",
            "2/2 [==============================] - 0s 4ms/step - loss: 7.6617 - mae: 7.6617\n",
            "Epoch 25/100\n",
            "2/2 [==============================] - 0s 4ms/step - loss: 13.1859 - mae: 13.1859\n",
            "Epoch 26/100\n",
            "2/2 [==============================] - 0s 5ms/step - loss: 16.4211 - mae: 16.4211\n",
            "Epoch 27/100\n",
            "2/2 [==============================] - 0s 6ms/step - loss: 13.1660 - mae: 13.1660\n",
            "Epoch 28/100\n",
            "2/2 [==============================] - 0s 12ms/step - loss: 14.2559 - mae: 14.2559\n",
            "Epoch 29/100\n",
            "2/2 [==============================] - 0s 10ms/step - loss: 10.0670 - mae: 10.0670\n",
            "Epoch 30/100\n",
            "2/2 [==============================] - 0s 5ms/step - loss: 16.3409 - mae: 16.3409\n",
            "Epoch 31/100\n",
            "2/2 [==============================] - 0s 6ms/step - loss: 23.6444 - mae: 23.6444\n",
            "Epoch 32/100\n",
            "2/2 [==============================] - 0s 8ms/step - loss: 7.6215 - mae: 7.6215\n",
            "Epoch 33/100\n",
            "2/2 [==============================] - 0s 4ms/step - loss: 9.3221 - mae: 9.3221\n",
            "Epoch 34/100\n",
            "2/2 [==============================] - 0s 7ms/step - loss: 13.7313 - mae: 13.7313\n",
            "Epoch 35/100\n",
            "2/2 [==============================] - 0s 3ms/step - loss: 11.1276 - mae: 11.1276\n",
            "Epoch 36/100\n",
            "2/2 [==============================] - 0s 3ms/step - loss: 13.3222 - mae: 13.3222\n",
            "Epoch 37/100\n",
            "2/2 [==============================] - 0s 4ms/step - loss: 9.4763 - mae: 9.4763\n",
            "Epoch 38/100\n",
            "2/2 [==============================] - 0s 3ms/step - loss: 10.1381 - mae: 10.1381\n",
            "Epoch 39/100\n",
            "2/2 [==============================] - 0s 4ms/step - loss: 10.1793 - mae: 10.1793\n",
            "Epoch 40/100\n",
            "2/2 [==============================] - 0s 3ms/step - loss: 10.9137 - mae: 10.9137\n",
            "Epoch 41/100\n",
            "2/2 [==============================] - 0s 3ms/step - loss: 7.9063 - mae: 7.9063\n",
            "Epoch 42/100\n",
            "2/2 [==============================] - 0s 4ms/step - loss: 10.0914 - mae: 10.0914\n",
            "Epoch 43/100\n",
            "2/2 [==============================] - 0s 3ms/step - loss: 8.7006 - mae: 8.7006\n",
            "Epoch 44/100\n",
            "2/2 [==============================] - 0s 3ms/step - loss: 12.2047 - mae: 12.2047\n",
            "Epoch 45/100\n",
            "2/2 [==============================] - 0s 4ms/step - loss: 13.7970 - mae: 13.7970\n",
            "Epoch 46/100\n",
            "2/2 [==============================] - 0s 4ms/step - loss: 8.4687 - mae: 8.4687\n",
            "Epoch 47/100\n",
            "2/2 [==============================] - 0s 4ms/step - loss: 9.1330 - mae: 9.1330\n",
            "Epoch 48/100\n",
            "2/2 [==============================] - 0s 4ms/step - loss: 10.6190 - mae: 10.6190\n",
            "Epoch 49/100\n",
            "2/2 [==============================] - 0s 4ms/step - loss: 7.7503 - mae: 7.7503\n",
            "Epoch 50/100\n",
            "2/2 [==============================] - 0s 4ms/step - loss: 9.5407 - mae: 9.5407\n",
            "Epoch 51/100\n",
            "2/2 [==============================] - 0s 4ms/step - loss: 9.1584 - mae: 9.1584\n",
            "Epoch 52/100\n",
            "2/2 [==============================] - 0s 5ms/step - loss: 16.3630 - mae: 16.3630\n",
            "Epoch 53/100\n",
            "2/2 [==============================] - 0s 4ms/step - loss: 14.1299 - mae: 14.1299\n",
            "Epoch 54/100\n",
            "2/2 [==============================] - 0s 8ms/step - loss: 21.1247 - mae: 21.1247\n",
            "Epoch 55/100\n",
            "2/2 [==============================] - 0s 4ms/step - loss: 16.3961 - mae: 16.3961\n",
            "Epoch 56/100\n",
            "2/2 [==============================] - 0s 8ms/step - loss: 9.9806 - mae: 9.9806\n",
            "Epoch 57/100\n",
            "2/2 [==============================] - 0s 4ms/step - loss: 9.9606 - mae: 9.9606\n",
            "Epoch 58/100\n",
            "2/2 [==============================] - 0s 7ms/step - loss: 9.2209 - mae: 9.2209\n",
            "Epoch 59/100\n",
            "2/2 [==============================] - 0s 5ms/step - loss: 8.4239 - mae: 8.4239\n",
            "Epoch 60/100\n",
            "2/2 [==============================] - 0s 4ms/step - loss: 9.4869 - mae: 9.4869\n",
            "Epoch 61/100\n",
            "2/2 [==============================] - 0s 7ms/step - loss: 11.4355 - mae: 11.4355\n",
            "Epoch 62/100\n",
            "2/2 [==============================] - 0s 4ms/step - loss: 11.6887 - mae: 11.6887\n",
            "Epoch 63/100\n",
            "2/2 [==============================] - 0s 4ms/step - loss: 7.0838 - mae: 7.0838\n",
            "Epoch 64/100\n",
            "2/2 [==============================] - 0s 4ms/step - loss: 16.9675 - mae: 16.9675\n",
            "Epoch 65/100\n",
            "2/2 [==============================] - 0s 4ms/step - loss: 12.4599 - mae: 12.4599\n",
            "Epoch 66/100\n",
            "2/2 [==============================] - 0s 4ms/step - loss: 13.0184 - mae: 13.0184\n",
            "Epoch 67/100\n",
            "2/2 [==============================] - 0s 4ms/step - loss: 8.0600 - mae: 8.0600\n",
            "Epoch 68/100\n",
            "2/2 [==============================] - 0s 4ms/step - loss: 10.1888 - mae: 10.1888\n",
            "Epoch 69/100\n",
            "2/2 [==============================] - 0s 4ms/step - loss: 12.3633 - mae: 12.3633\n",
            "Epoch 70/100\n",
            "2/2 [==============================] - 0s 4ms/step - loss: 9.0516 - mae: 9.0516\n",
            "Epoch 71/100\n",
            "2/2 [==============================] - 0s 4ms/step - loss: 10.0378 - mae: 10.0378\n",
            "Epoch 72/100\n",
            "2/2 [==============================] - 0s 8ms/step - loss: 10.0516 - mae: 10.0516\n",
            "Epoch 73/100\n",
            "2/2 [==============================] - 0s 3ms/step - loss: 12.6151 - mae: 12.6151\n",
            "Epoch 74/100\n",
            "2/2 [==============================] - 0s 3ms/step - loss: 10.3819 - mae: 10.3819\n",
            "Epoch 75/100\n",
            "2/2 [==============================] - 0s 4ms/step - loss: 9.7229 - mae: 9.7229\n",
            "Epoch 76/100\n",
            "2/2 [==============================] - 0s 4ms/step - loss: 11.2252 - mae: 11.2252\n",
            "Epoch 77/100\n",
            "2/2 [==============================] - 0s 7ms/step - loss: 8.3642 - mae: 8.3642\n",
            "Epoch 78/100\n",
            "2/2 [==============================] - 0s 3ms/step - loss: 9.1274 - mae: 9.1274\n",
            "Epoch 79/100\n",
            "2/2 [==============================] - 0s 5ms/step - loss: 19.5039 - mae: 19.5039\n",
            "Epoch 80/100\n",
            "2/2 [==============================] - 0s 4ms/step - loss: 14.8945 - mae: 14.8945\n",
            "Epoch 81/100\n",
            "2/2 [==============================] - 0s 10ms/step - loss: 9.0034 - mae: 9.0034\n",
            "Epoch 82/100\n",
            "2/2 [==============================] - 0s 5ms/step - loss: 13.0206 - mae: 13.0206\n",
            "Epoch 83/100\n",
            "2/2 [==============================] - 0s 4ms/step - loss: 7.9299 - mae: 7.9299\n",
            "Epoch 84/100\n",
            "2/2 [==============================] - 0s 3ms/step - loss: 7.6872 - mae: 7.6872\n",
            "Epoch 85/100\n",
            "2/2 [==============================] - 0s 7ms/step - loss: 10.0328 - mae: 10.0328\n",
            "Epoch 86/100\n",
            "2/2 [==============================] - 0s 4ms/step - loss: 9.2433 - mae: 9.2433\n",
            "Epoch 87/100\n",
            "2/2 [==============================] - 0s 4ms/step - loss: 12.0209 - mae: 12.0209\n",
            "Epoch 88/100\n",
            "2/2 [==============================] - 0s 4ms/step - loss: 10.6389 - mae: 10.6389\n",
            "Epoch 89/100\n",
            "2/2 [==============================] - 0s 3ms/step - loss: 7.2667 - mae: 7.2667\n",
            "Epoch 90/100\n",
            "2/2 [==============================] - 0s 3ms/step - loss: 12.7786 - mae: 12.7786\n",
            "Epoch 91/100\n",
            "2/2 [==============================] - 0s 4ms/step - loss: 7.3481 - mae: 7.3481\n",
            "Epoch 92/100\n",
            "2/2 [==============================] - 0s 3ms/step - loss: 7.7175 - mae: 7.7175\n",
            "Epoch 93/100\n",
            "2/2 [==============================] - 0s 4ms/step - loss: 7.1263 - mae: 7.1263\n",
            "Epoch 94/100\n",
            "2/2 [==============================] - 0s 4ms/step - loss: 12.6190 - mae: 12.6190\n",
            "Epoch 95/100\n",
            "2/2 [==============================] - 0s 4ms/step - loss: 10.0912 - mae: 10.0912\n",
            "Epoch 96/100\n",
            "2/2 [==============================] - 0s 4ms/step - loss: 9.3558 - mae: 9.3558\n",
            "Epoch 97/100\n",
            "2/2 [==============================] - 0s 4ms/step - loss: 12.6834 - mae: 12.6834\n",
            "Epoch 98/100\n",
            "2/2 [==============================] - 0s 4ms/step - loss: 8.6762 - mae: 8.6762\n",
            "Epoch 99/100\n",
            "2/2 [==============================] - 0s 5ms/step - loss: 9.4693 - mae: 9.4693\n",
            "Epoch 100/100\n",
            "2/2 [==============================] - 0s 4ms/step - loss: 8.7067 - mae: 8.7067\n"
          ],
          "name": "stdout"
        },
        {
          "output_type": "execute_result",
          "data": {
            "text/plain": [
              "<tensorflow.python.keras.callbacks.History at 0x7fbf9d152990>"
            ]
          },
          "metadata": {
            "tags": []
          },
          "execution_count": 45
        }
      ]
    },
    {
      "cell_type": "code",
      "metadata": {
        "colab": {
          "base_uri": "https://localhost:8080/",
          "height": 466
        },
        "id": "Tqv1uLlH30Yu",
        "outputId": "b89a5417-ccf7-4a69-d1da-746f0215dc55"
      },
      "source": [
        "# Make and plot precitions for model_1\n",
        "y_preds_1 = model_1.predict(x_test)\n",
        "plot_predictions(predictions=y_preds_1)"
      ],
      "execution_count": 46,
      "outputs": [
        {
          "output_type": "stream",
          "text": [
            "WARNING:tensorflow:6 out of the last 6 calls to <function Model.make_predict_function.<locals>.predict_function at 0x7fbfeb1bf5f0> triggered tf.function retracing. Tracing is expensive and the excessive number of tracings could be due to (1) creating @tf.function repeatedly in a loop, (2) passing tensors with different shapes, (3) passing Python objects instead of tensors. For (1), please define your @tf.function outside of the loop. For (2), @tf.function has experimental_relax_shapes=True option that relaxes argument shapes that can avoid unnecessary retracing. For (3), please refer to https://www.tensorflow.org/guide/function#controlling_retracing and https://www.tensorflow.org/api_docs/python/tf/function for  more details.\n"
          ],
          "name": "stdout"
        },
        {
          "output_type": "display_data",
          "data": {
            "image/png": "[encoded data removed]",
            "text/plain": [
              "<Figure size 720x504 with 1 Axes>"
            ]
          },
          "metadata": {
            "tags": [],
            "needs_background": "light"
          }
        }
      ]
    },
    {
      "cell_type": "code",
      "metadata": {
        "colab": {
          "base_uri": "https://localhost:8080/"
        },
        "id": "e7Jvmdt25eRR",
        "outputId": "010f1646-6f6f-4582-e455-8263b47a1b3e"
      },
      "source": [
        "# Calculate model_1 evaluation metrics\n",
        "mae_1 = mae(y_test, y_preds_1)\n",
        "mse_1 = mse(y_test, y_preds_1)\n",
        "mae_1.numpy(), mse_1.numpy()\n"
      ],
      "execution_count": 47,
      "outputs": [
        {
          "output_type": "execute_result",
          "data": {
            "text/plain": [
              "(18.745327, 353.57336)"
            ]
          },
          "metadata": {
            "tags": []
          },
          "execution_count": 47
        }
      ]
    },
    {
      "cell_type": "markdown",
      "metadata": {
        "id": "m7_eytzF58SM"
      },
      "source": [
        "**Build `model_2`**\n",
        "\n",
        "* 2 dense layers, trainded for 100 epochs"
      ]
    },
    {
      "cell_type": "code",
      "metadata": {
        "colab": {
          "base_uri": "https://localhost:8080/"
        },
        "id": "MFVXxXFg64mg",
        "outputId": "72afb6df-7de3-4a8f-9cec-eac22dbefde3"
      },
      "source": [
        "# Set the random seed\n",
        "tf.random.set_seed(42)\n",
        "\n",
        "# 1. Create the model\n",
        "model_2 = tf.keras.Sequential([\n",
        "  tf.keras.layers.Dense(10),\n",
        "  tf.keras.layers.Dense(1)\n",
        "])\n",
        "\n",
        "# 2. compile the model\n",
        "model_2.compile(loss=tf.keras.losses.mae,\n",
        "                optimizer=tf.keras.optimizers.SGD(),\n",
        "                metrics=[\"mse\"])\n",
        "\n",
        "# 3. Fit the model\n",
        "model_2.fit(x_train, y_train, epochs=100)"
      ],
      "execution_count": 48,
      "outputs": [
        {
          "output_type": "stream",
          "text": [
            "Epoch 1/100\n",
            "2/2 [==============================] - 0s 6ms/step - loss: 27.4058 - mse: 1084.1482\n",
            "Epoch 2/100\n",
            "2/2 [==============================] - 0s 4ms/step - loss: 24.6339 - mse: 777.9203\n",
            "Epoch 3/100\n",
            "2/2 [==============================] - 0s 4ms/step - loss: 29.8935 - mse: 1334.8956\n",
            "Epoch 4/100\n",
            "2/2 [==============================] - 0s 5ms/step - loss: 27.4055 - mse: 1106.8035\n",
            "Epoch 5/100\n",
            "2/2 [==============================] - 0s 3ms/step - loss: 14.9463 - mse: 281.1077\n",
            "Epoch 6/100\n",
            "2/2 [==============================] - 0s 5ms/step - loss: 11.8819 - mse: 168.6621\n",
            "Epoch 7/100\n",
            "2/2 [==============================] - 0s 5ms/step - loss: 11.1988 - mse: 151.3509\n",
            "Epoch 8/100\n",
            "2/2 [==============================] - 0s 4ms/step - loss: 11.0910 - mse: 160.3745\n",
            "Epoch 9/100\n",
            "2/2 [==============================] - 0s 5ms/step - loss: 40.4763 - mse: 2586.0090\n",
            "Epoch 10/100\n",
            "2/2 [==============================] - 0s 4ms/step - loss: 27.8688 - mse: 1094.4382\n",
            "Epoch 11/100\n",
            "2/2 [==============================] - 0s 3ms/step - loss: 10.2473 - mse: 147.9359\n",
            "Epoch 12/100\n",
            "2/2 [==============================] - 0s 5ms/step - loss: 25.2803 - mse: 890.3866\n",
            "Epoch 13/100\n",
            "2/2 [==============================] - 0s 4ms/step - loss: 16.9897 - mse: 399.9678\n",
            "Epoch 14/100\n",
            "2/2 [==============================] - 0s 7ms/step - loss: 25.9217 - mse: 1049.5515\n",
            "Epoch 15/100\n",
            "2/2 [==============================] - 0s 7ms/step - loss: 17.9948 - mse: 450.2580\n",
            "Epoch 16/100\n",
            "2/2 [==============================] - 0s 9ms/step - loss: 7.3510 - mse: 80.6206\n",
            "Epoch 17/100\n",
            "2/2 [==============================] - 0s 12ms/step - loss: 10.8636 - mse: 174.7868\n",
            "Epoch 18/100\n",
            "2/2 [==============================] - 0s 4ms/step - loss: 19.5304 - mse: 565.8053\n",
            "Epoch 19/100\n",
            "2/2 [==============================] - 0s 4ms/step - loss: 10.3469 - mse: 167.7749\n",
            "Epoch 20/100\n",
            "2/2 [==============================] - 0s 4ms/step - loss: 17.6985 - mse: 455.7096\n",
            "Epoch 21/100\n",
            "2/2 [==============================] - 0s 10ms/step - loss: 15.8984 - mse: 347.1929\n",
            "Epoch 22/100\n",
            "2/2 [==============================] - 0s 6ms/step - loss: 14.1991 - mse: 285.1767\n",
            "Epoch 23/100\n",
            "2/2 [==============================] - 0s 9ms/step - loss: 8.7720 - mse: 91.7852\n",
            "Epoch 24/100\n",
            "2/2 [==============================] - 0s 5ms/step - loss: 11.0570 - mse: 153.7430\n",
            "Epoch 25/100\n",
            "2/2 [==============================] - 0s 4ms/step - loss: 12.6838 - mse: 233.2949\n",
            "Epoch 26/100\n",
            "2/2 [==============================] - 0s 5ms/step - loss: 26.1877 - mse: 1024.6091\n",
            "Epoch 27/100\n",
            "2/2 [==============================] - 0s 6ms/step - loss: 11.7432 - mse: 194.8454\n",
            "Epoch 28/100\n",
            "2/2 [==============================] - 0s 5ms/step - loss: 22.8730 - mse: 835.6074\n",
            "Epoch 29/100\n",
            "2/2 [==============================] - 0s 5ms/step - loss: 9.2459 - mse: 96.7786\n",
            "Epoch 30/100\n",
            "2/2 [==============================] - 0s 4ms/step - loss: 29.2641 - mse: 1535.1349\n",
            "Epoch 31/100\n",
            "2/2 [==============================] - 0s 3ms/step - loss: 53.0225 - mse: 5030.2988\n",
            "Epoch 32/100\n",
            "2/2 [==============================] - 0s 3ms/step - loss: 11.9951 - mse: 211.7025\n",
            "Epoch 33/100\n",
            "2/2 [==============================] - 0s 4ms/step - loss: 15.6357 - mse: 337.3666\n",
            "Epoch 34/100\n",
            "2/2 [==============================] - 0s 4ms/step - loss: 12.6925 - mse: 214.4824\n",
            "Epoch 35/100\n",
            "2/2 [==============================] - 0s 4ms/step - loss: 9.2398 - mse: 92.9126\n",
            "Epoch 36/100\n",
            "2/2 [==============================] - 0s 4ms/step - loss: 16.6497 - mse: 403.6573\n",
            "Epoch 37/100\n",
            "2/2 [==============================] - 0s 4ms/step - loss: 11.0382 - mse: 192.3919\n",
            "Epoch 38/100\n",
            "2/2 [==============================] - 0s 4ms/step - loss: 18.1634 - mse: 433.6717\n",
            "Epoch 39/100\n",
            "2/2 [==============================] - 0s 4ms/step - loss: 19.1013 - mse: 529.6439\n",
            "Epoch 40/100\n",
            "2/2 [==============================] - 0s 4ms/step - loss: 20.4324 - mse: 610.1324\n",
            "Epoch 41/100\n",
            "2/2 [==============================] - 0s 4ms/step - loss: 14.9102 - mse: 279.6183\n",
            "Epoch 42/100\n",
            "2/2 [==============================] - 0s 4ms/step - loss: 12.2809 - mse: 186.6180\n",
            "Epoch 43/100\n",
            "2/2 [==============================] - 0s 7ms/step - loss: 10.7333 - mse: 167.0952\n",
            "Epoch 44/100\n",
            "2/2 [==============================] - 0s 4ms/step - loss: 23.0260 - mse: 830.4244\n",
            "Epoch 45/100\n",
            "2/2 [==============================] - 0s 4ms/step - loss: 10.3897 - mse: 128.9549\n",
            "Epoch 46/100\n",
            "2/2 [==============================] - 0s 4ms/step - loss: 11.7904 - mse: 181.9212\n",
            "Epoch 47/100\n",
            "2/2 [==============================] - 0s 3ms/step - loss: 9.6438 - mse: 153.8708\n",
            "Epoch 48/100\n",
            "2/2 [==============================] - 0s 10ms/step - loss: 17.2335 - mse: 402.8494\n",
            "Epoch 49/100\n",
            "2/2 [==============================] - 0s 12ms/step - loss: 9.5729 - mse: 99.8337\n",
            "Epoch 50/100\n",
            "2/2 [==============================] - 0s 8ms/step - loss: 13.8185 - mse: 260.3670\n",
            "Epoch 51/100\n",
            "2/2 [==============================] - 0s 4ms/step - loss: 11.5958 - mse: 154.7956\n",
            "Epoch 52/100\n",
            "2/2 [==============================] - 0s 4ms/step - loss: 30.5538 - mse: 1613.0886\n",
            "Epoch 53/100\n",
            "2/2 [==============================] - 0s 8ms/step - loss: 14.3541 - mse: 302.5293\n",
            "Epoch 54/100\n",
            "2/2 [==============================] - 0s 5ms/step - loss: 23.9713 - mse: 859.3983\n",
            "Epoch 55/100\n",
            "2/2 [==============================] - 0s 4ms/step - loss: 23.1938 - mse: 805.5452\n",
            "Epoch 56/100\n",
            "2/2 [==============================] - 0s 4ms/step - loss: 10.8837 - mse: 170.9834\n",
            "Epoch 57/100\n",
            "2/2 [==============================] - 0s 3ms/step - loss: 12.7445 - mse: 198.7015\n",
            "Epoch 58/100\n",
            "2/2 [==============================] - 0s 4ms/step - loss: 9.5995 - mse: 102.5890\n",
            "Epoch 59/100\n",
            "2/2 [==============================] - 0s 5ms/step - loss: 12.5172 - mse: 216.3367\n",
            "Epoch 60/100\n",
            "2/2 [==============================] - 0s 7ms/step - loss: 12.3200 - mse: 208.6371\n",
            "Epoch 61/100\n",
            "2/2 [==============================] - 0s 5ms/step - loss: 17.4604 - mse: 428.6393\n",
            "Epoch 62/100\n",
            "2/2 [==============================] - 0s 5ms/step - loss: 10.6052 - mse: 136.9777\n",
            "Epoch 63/100\n",
            "2/2 [==============================] - 0s 5ms/step - loss: 10.4893 - mse: 152.4555\n",
            "Epoch 64/100\n",
            "2/2 [==============================] - 0s 6ms/step - loss: 24.8450 - mse: 911.7512\n",
            "Epoch 65/100\n",
            "2/2 [==============================] - 0s 4ms/step - loss: 10.6761 - mse: 142.7374\n",
            "Epoch 66/100\n",
            "2/2 [==============================] - 0s 4ms/step - loss: 21.7809 - mse: 704.4492\n",
            "Epoch 67/100\n",
            "2/2 [==============================] - 0s 4ms/step - loss: 10.7136 - mse: 136.0194\n",
            "Epoch 68/100\n",
            "2/2 [==============================] - 0s 4ms/step - loss: 10.6397 - mse: 149.2300\n",
            "Epoch 69/100\n",
            "2/2 [==============================] - 0s 3ms/step - loss: 22.6914 - mse: 742.1761\n",
            "Epoch 70/100\n",
            "2/2 [==============================] - 0s 14ms/step - loss: 9.3316 - mse: 166.1628\n",
            "Epoch 71/100\n",
            "2/2 [==============================] - 0s 5ms/step - loss: 15.4355 - mse: 323.0843\n",
            "Epoch 72/100\n",
            "2/2 [==============================] - 0s 6ms/step - loss: 6.7437 - mse: 67.0210\n",
            "Epoch 73/100\n",
            "2/2 [==============================] - 0s 6ms/step - loss: 11.6891 - mse: 183.7296\n",
            "Epoch 74/100\n",
            "2/2 [==============================] - 0s 5ms/step - loss: 24.0400 - mse: 908.8992\n",
            "Epoch 75/100\n",
            "2/2 [==============================] - 0s 5ms/step - loss: 9.5896 - mse: 149.3948\n",
            "Epoch 76/100\n",
            "2/2 [==============================] - 0s 5ms/step - loss: 12.4371 - mse: 188.3310\n",
            "Epoch 77/100\n",
            "2/2 [==============================] - 0s 12ms/step - loss: 16.6489 - mse: 429.2708\n",
            "Epoch 78/100\n",
            "2/2 [==============================] - 0s 5ms/step - loss: 9.0614 - mse: 95.4870\n",
            "Epoch 79/100\n",
            "2/2 [==============================] - 0s 5ms/step - loss: 23.9675 - mse: 864.0864\n",
            "Epoch 80/100\n",
            "2/2 [==============================] - 0s 6ms/step - loss: 26.7463 - mse: 1104.4032\n",
            "Epoch 81/100\n",
            "2/2 [==============================] - 0s 9ms/step - loss: 11.6714 - mse: 170.7055\n",
            "Epoch 82/100\n",
            "2/2 [==============================] - 0s 5ms/step - loss: 12.0228 - mse: 211.9191\n",
            "Epoch 83/100\n",
            "2/2 [==============================] - 0s 4ms/step - loss: 17.4218 - mse: 395.5589\n",
            "Epoch 84/100\n",
            "2/2 [==============================] - 0s 9ms/step - loss: 7.2629 - mse: 73.0935\n",
            "Epoch 85/100\n",
            "2/2 [==============================] - 0s 4ms/step - loss: 14.9650 - mse: 312.8361\n",
            "Epoch 86/100\n",
            "2/2 [==============================] - 0s 4ms/step - loss: 15.2862 - mse: 315.3605\n",
            "Epoch 87/100\n",
            "2/2 [==============================] - 0s 4ms/step - loss: 19.1086 - mse: 521.2534\n",
            "Epoch 88/100\n",
            "2/2 [==============================] - 0s 5ms/step - loss: 29.8229 - mse: 1287.1907\n",
            "Epoch 89/100\n",
            "2/2 [==============================] - 0s 3ms/step - loss: 10.1742 - mse: 124.1342\n",
            "Epoch 90/100\n",
            "2/2 [==============================] - 0s 5ms/step - loss: 21.5240 - mse: 663.8611\n",
            "Epoch 91/100\n",
            "2/2 [==============================] - 0s 10ms/step - loss: 10.5716 - mse: 161.7467\n",
            "Epoch 92/100\n",
            "2/2 [==============================] - 0s 8ms/step - loss: 18.3977 - mse: 464.1326\n",
            "Epoch 93/100\n",
            "2/2 [==============================] - 0s 8ms/step - loss: 7.4138 - mse: 81.9820\n",
            "Epoch 94/100\n",
            "2/2 [==============================] - 0s 4ms/step - loss: 17.7380 - mse: 445.7379\n",
            "Epoch 95/100\n",
            "2/2 [==============================] - 0s 7ms/step - loss: 11.1144 - mse: 164.0820\n",
            "Epoch 96/100\n",
            "2/2 [==============================] - 0s 10ms/step - loss: 19.4346 - mse: 510.5842\n",
            "Epoch 97/100\n",
            "2/2 [==============================] - 0s 5ms/step - loss: 12.1593 - mse: 209.9755\n",
            "Epoch 98/100\n",
            "2/2 [==============================] - 0s 6ms/step - loss: 11.5653 - mse: 169.4052\n",
            "Epoch 99/100\n",
            "2/2 [==============================] - 0s 9ms/step - loss: 13.8827 - mse: 265.4630\n",
            "Epoch 100/100\n",
            "2/2 [==============================] - 0s 6ms/step - loss: 20.2277 - mse: 608.8218\n"
          ],
          "name": "stdout"
        },
        {
          "output_type": "execute_result",
          "data": {
            "text/plain": [
              "<tensorflow.python.keras.callbacks.History at 0x7fbfeb12bb50>"
            ]
          },
          "metadata": {
            "tags": []
          },
          "execution_count": 48
        }
      ]
    },
    {
      "cell_type": "code",
      "metadata": {
        "colab": {
          "base_uri": "https://localhost:8080/",
          "height": 428
        },
        "id": "nKIcnTjQ7BsK",
        "outputId": "3419603b-8764-46ec-8ac6-fde3882ef8cd"
      },
      "source": [
        "y_preds_2 = model_2.predict(x_test)\n",
        "plot_predictions(predictions=y_preds_2)"
      ],
      "execution_count": 49,
      "outputs": [
        {
          "output_type": "display_data",
          "data": {
            "image/png": "[encoded data removed]",
            "text/plain": [
              "<Figure size 720x504 with 1 Axes>"
            ]
          },
          "metadata": {
            "tags": [],
            "needs_background": "light"
          }
        }
      ]
    },
    {
      "cell_type": "code",
      "metadata": {
        "colab": {
          "base_uri": "https://localhost:8080/"
        },
        "id": "CZiciG6d7LGx",
        "outputId": "74de3259-5a42-42a8-baef-9d1adc4f5e31"
      },
      "source": [
        "mae_2 = mae(y_test, y_preds_2)\n",
        "mse_2 = mse(y_test, y_preds_2)\n",
        "mae_2.numpy(), mse_2.numpy()"
      ],
      "execution_count": 50,
      "outputs": [
        {
          "output_type": "execute_result",
          "data": {
            "text/plain": [
              "(3.1969407, 13.070143)"
            ]
          },
          "metadata": {
            "tags": []
          },
          "execution_count": 50
        }
      ]
    },
    {
      "cell_type": "markdown",
      "metadata": {
        "id": "69qU26Il7Tdq"
      },
      "source": [
        "**Build `model_3`**\n",
        "* 2 layers trained for 500 epochs"
      ]
    },
    {
      "cell_type": "code",
      "metadata": {
        "colab": {
          "base_uri": "https://localhost:8080/"
        },
        "id": "UWpBUX-c8TrQ",
        "outputId": "36dd28c0-d281-48e3-de20-b171bc201787"
      },
      "source": [
        "tf.random.set_seed(42)\n",
        "\n",
        "model_3 = tf.keras.Sequential([\n",
        "  tf.keras.layers.Dense(10),\n",
        "  tf.keras.layers.Dense(1)\n",
        "])\n",
        "\n",
        "model_3.compile(loss=tf.keras.losses.mae,\n",
        "                optimizer=tf.keras.optimizers.SGD(),\n",
        "                metrics=[\"mse\"])\n",
        "\n",
        "# 3. Fit the model\n",
        "model_2.fit(x_train, y_train, epochs=500)"
      ],
      "execution_count": 51,
      "outputs": [
        {
          "output_type": "stream",
          "text": [
            "Epoch 1/500\n",
            "2/2 [==============================] - 0s 6ms/step - loss: 11.5074 - mse: 177.4508\n",
            "Epoch 2/500\n",
            "2/2 [==============================] - 0s 6ms/step - loss: 13.5699 - mse: 286.7647\n",
            "Epoch 3/500\n",
            "2/2 [==============================] - 0s 5ms/step - loss: 12.0785 - mse: 194.9325\n",
            "Epoch 4/500\n",
            "2/2 [==============================] - 0s 4ms/step - loss: 16.6040 - mse: 396.1966\n",
            "Epoch 5/500\n",
            "2/2 [==============================] - 0s 3ms/step - loss: 10.7962 - mse: 153.1680\n",
            "Epoch 6/500\n",
            "2/2 [==============================] - 0s 5ms/step - loss: 8.7754 - mse: 90.6151\n",
            "Epoch 7/500\n",
            "2/2 [==============================] - 0s 8ms/step - loss: 9.7895 - mse: 120.4102\n",
            "Epoch 8/500\n",
            "2/2 [==============================] - 0s 5ms/step - loss: 14.5170 - mse: 316.1105\n",
            "Epoch 9/500\n",
            "2/2 [==============================] - 0s 4ms/step - loss: 23.1609 - mse: 734.8540\n",
            "Epoch 10/500\n",
            "2/2 [==============================] - 0s 5ms/step - loss: 13.2766 - mse: 237.0483\n",
            "Epoch 11/500\n",
            "2/2 [==============================] - 0s 6ms/step - loss: 8.6379 - mse: 89.7608\n",
            "Epoch 12/500\n",
            "2/2 [==============================] - 0s 4ms/step - loss: 17.0837 - mse: 411.4058\n",
            "Epoch 13/500\n",
            "2/2 [==============================] - 0s 5ms/step - loss: 10.3735 - mse: 123.4360\n",
            "Epoch 14/500\n",
            "2/2 [==============================] - 0s 4ms/step - loss: 32.0718 - mse: 1649.7240\n",
            "Epoch 15/500\n",
            "2/2 [==============================] - 0s 4ms/step - loss: 20.1723 - mse: 577.2464\n",
            "Epoch 16/500\n",
            "2/2 [==============================] - 0s 5ms/step - loss: 8.3745 - mse: 109.1302\n",
            "Epoch 17/500\n",
            "2/2 [==============================] - 0s 3ms/step - loss: 16.4633 - mse: 369.6452\n",
            "Epoch 18/500\n",
            "2/2 [==============================] - 0s 4ms/step - loss: 10.8610 - mse: 179.8989\n",
            "Epoch 19/500\n",
            "2/2 [==============================] - 0s 8ms/step - loss: 16.9715 - mse: 466.5688\n",
            "Epoch 20/500\n",
            "2/2 [==============================] - 0s 9ms/step - loss: 8.6884 - mse: 131.6224\n",
            "Epoch 21/500\n",
            "2/2 [==============================] - 0s 4ms/step - loss: 16.5583 - mse: 393.2132\n",
            "Epoch 22/500\n",
            "2/2 [==============================] - 0s 4ms/step - loss: 14.8890 - mse: 313.3727\n",
            "Epoch 23/500\n",
            "2/2 [==============================] - 0s 5ms/step - loss: 13.8021 - mse: 278.6688\n",
            "Epoch 24/500\n",
            "2/2 [==============================] - 0s 3ms/step - loss: 13.9754 - mse: 275.0632\n",
            "Epoch 25/500\n",
            "2/2 [==============================] - 0s 8ms/step - loss: 16.9879 - mse: 430.7520\n",
            "Epoch 26/500\n",
            "2/2 [==============================] - 0s 5ms/step - loss: 23.4867 - mse: 785.5865\n",
            "Epoch 27/500\n",
            "2/2 [==============================] - 0s 5ms/step - loss: 20.0268 - mse: 595.6244\n",
            "Epoch 28/500\n",
            "2/2 [==============================] - 0s 5ms/step - loss: 15.1711 - mse: 361.8896\n",
            "Epoch 29/500\n",
            "2/2 [==============================] - 0s 8ms/step - loss: 8.0798 - mse: 79.2701\n",
            "Epoch 30/500\n",
            "2/2 [==============================] - 0s 5ms/step - loss: 28.9694 - mse: 1474.2782\n",
            "Epoch 31/500\n",
            "2/2 [==============================] - 0s 3ms/step - loss: 52.3107 - mse: 4874.8232\n",
            "Epoch 32/500\n",
            "2/2 [==============================] - 0s 4ms/step - loss: 11.8916 - mse: 221.3723\n",
            "Epoch 33/500\n",
            "2/2 [==============================] - 0s 3ms/step - loss: 9.9105 - mse: 111.8668\n",
            "Epoch 34/500\n",
            "2/2 [==============================] - 0s 5ms/step - loss: 20.1127 - mse: 598.5549\n",
            "Epoch 35/500\n",
            "2/2 [==============================] - 0s 4ms/step - loss: 13.8737 - mse: 291.8505\n",
            "Epoch 36/500\n",
            "2/2 [==============================] - 0s 5ms/step - loss: 20.3501 - mse: 593.0131\n",
            "Epoch 37/500\n",
            "2/2 [==============================] - 0s 6ms/step - loss: 11.5478 - mse: 213.1484\n",
            "Epoch 38/500\n",
            "2/2 [==============================] - 0s 5ms/step - loss: 17.1842 - mse: 385.8153\n",
            "Epoch 39/500\n",
            "2/2 [==============================] - 0s 4ms/step - loss: 18.0873 - mse: 466.5069\n",
            "Epoch 40/500\n",
            "2/2 [==============================] - 0s 4ms/step - loss: 18.8958 - mse: 534.3845\n",
            "Epoch 41/500\n",
            "2/2 [==============================] - 0s 8ms/step - loss: 6.0723 - mse: 60.5337\n",
            "Epoch 42/500\n",
            "2/2 [==============================] - 0s 5ms/step - loss: 13.8492 - mse: 275.5724\n",
            "Epoch 43/500\n",
            "2/2 [==============================] - 0s 4ms/step - loss: 11.4427 - mse: 222.1375\n",
            "Epoch 44/500\n",
            "2/2 [==============================] - 0s 7ms/step - loss: 27.8603 - mse: 1107.6929\n",
            "Epoch 45/500\n",
            "2/2 [==============================] - 0s 4ms/step - loss: 9.3713 - mse: 107.7395\n",
            "Epoch 46/500\n",
            "2/2 [==============================] - 0s 4ms/step - loss: 12.0398 - mse: 210.6936\n",
            "Epoch 47/500\n",
            "2/2 [==============================] - 0s 5ms/step - loss: 12.9595 - mse: 244.8594\n",
            "Epoch 48/500\n",
            "2/2 [==============================] - 0s 4ms/step - loss: 15.7750 - mse: 345.2752\n",
            "Epoch 49/500\n",
            "2/2 [==============================] - 0s 4ms/step - loss: 11.3172 - mse: 227.3170\n",
            "Epoch 50/500\n",
            "2/2 [==============================] - 0s 4ms/step - loss: 13.8924 - mse: 250.5841\n",
            "Epoch 51/500\n",
            "2/2 [==============================] - 0s 4ms/step - loss: 14.7094 - mse: 312.4293\n",
            "Epoch 52/500\n",
            "2/2 [==============================] - 0s 4ms/step - loss: 18.2598 - mse: 510.9954\n",
            "Epoch 53/500\n",
            "2/2 [==============================] - 0s 7ms/step - loss: 23.4923 - mse: 788.6813\n",
            "Epoch 54/500\n",
            "2/2 [==============================] - 0s 5ms/step - loss: 24.8245 - mse: 917.6867\n",
            "Epoch 55/500\n",
            "2/2 [==============================] - 0s 4ms/step - loss: 24.0845 - mse: 866.0036\n",
            "Epoch 56/500\n",
            "2/2 [==============================] - 0s 7ms/step - loss: 9.5227 - mse: 146.8655\n",
            "Epoch 57/500\n",
            "2/2 [==============================] - 0s 8ms/step - loss: 11.5394 - mse: 174.9005\n",
            "Epoch 58/500\n",
            "2/2 [==============================] - 0s 11ms/step - loss: 8.5911 - mse: 85.7303\n",
            "Epoch 59/500\n",
            "2/2 [==============================] - 0s 8ms/step - loss: 13.9903 - mse: 281.2110\n",
            "Epoch 60/500\n",
            "2/2 [==============================] - 0s 11ms/step - loss: 8.6602 - mse: 143.6821\n",
            "Epoch 61/500\n",
            "2/2 [==============================] - 0s 4ms/step - loss: 16.8709 - mse: 421.3957\n",
            "Epoch 62/500\n",
            "2/2 [==============================] - 0s 7ms/step - loss: 14.1008 - mse: 263.1970\n",
            "Epoch 63/500\n",
            "2/2 [==============================] - 0s 11ms/step - loss: 16.5274 - mse: 366.7516\n",
            "Epoch 64/500\n",
            "2/2 [==============================] - 0s 9ms/step - loss: 19.5371 - mse: 561.0506\n",
            "Epoch 65/500\n",
            "2/2 [==============================] - 0s 9ms/step - loss: 17.3403 - mse: 441.7484\n",
            "Epoch 66/500\n",
            "2/2 [==============================] - 0s 9ms/step - loss: 10.0668 - mse: 127.5218\n",
            "Epoch 67/500\n",
            "2/2 [==============================] - 0s 5ms/step - loss: 16.0639 - mse: 388.7568\n",
            "Epoch 68/500\n",
            "2/2 [==============================] - 0s 6ms/step - loss: 7.5170 - mse: 86.1449\n",
            "Epoch 69/500\n",
            "2/2 [==============================] - 0s 7ms/step - loss: 13.4990 - mse: 262.1983\n",
            "Epoch 70/500\n",
            "2/2 [==============================] - 0s 10ms/step - loss: 9.3886 - mse: 179.5137\n",
            "Epoch 71/500\n",
            "2/2 [==============================] - 0s 8ms/step - loss: 17.4020 - mse: 438.9863\n",
            "Epoch 72/500\n",
            "2/2 [==============================] - 0s 14ms/step - loss: 10.2270 - mse: 199.0552\n",
            "Epoch 73/500\n",
            "2/2 [==============================] - 0s 8ms/step - loss: 13.7481 - mse: 272.8810\n",
            "Epoch 74/500\n",
            "2/2 [==============================] - 0s 16ms/step - loss: 13.0198 - mse: 220.2212\n",
            "Epoch 75/500\n",
            "2/2 [==============================] - 0s 5ms/step - loss: 15.5711 - mse: 342.6275\n",
            "Epoch 76/500\n",
            "2/2 [==============================] - 0s 5ms/step - loss: 8.7466 - mse: 143.7961\n",
            "Epoch 77/500\n",
            "2/2 [==============================] - 0s 3ms/step - loss: 21.2022 - mse: 685.6450\n",
            "Epoch 78/500\n",
            "2/2 [==============================] - 0s 6ms/step - loss: 19.5338 - mse: 570.0087\n",
            "Epoch 79/500\n",
            "2/2 [==============================] - 0s 10ms/step - loss: 13.9312 - mse: 293.6948\n",
            "Epoch 80/500\n",
            "2/2 [==============================] - 0s 4ms/step - loss: 20.8237 - mse: 645.7010\n",
            "Epoch 81/500\n",
            "2/2 [==============================] - 0s 4ms/step - loss: 8.6363 - mse: 89.2309\n",
            "Epoch 82/500\n",
            "2/2 [==============================] - 0s 4ms/step - loss: 13.4314 - mse: 249.4075\n",
            "Epoch 83/500\n",
            "2/2 [==============================] - 0s 4ms/step - loss: 16.8651 - mse: 374.8927\n",
            "Epoch 84/500\n",
            "2/2 [==============================] - 0s 6ms/step - loss: 11.9566 - mse: 222.6886\n",
            "Epoch 85/500\n",
            "2/2 [==============================] - 0s 6ms/step - loss: 28.1078 - mse: 1094.9890\n",
            "Epoch 86/500\n",
            "2/2 [==============================] - 0s 6ms/step - loss: 8.7549 - mse: 87.7857\n",
            "Epoch 87/500\n",
            "2/2 [==============================] - 0s 3ms/step - loss: 23.3365 - mse: 758.4456\n",
            "Epoch 88/500\n",
            "2/2 [==============================] - 0s 11ms/step - loss: 18.1079 - mse: 470.6942\n",
            "Epoch 89/500\n",
            "2/2 [==============================] - 0s 3ms/step - loss: 7.9949 - mse: 118.8023\n",
            "Epoch 90/500\n",
            "2/2 [==============================] - 0s 8ms/step - loss: 22.0726 - mse: 725.5258\n",
            "Epoch 91/500\n",
            "2/2 [==============================] - 0s 3ms/step - loss: 23.8501 - mse: 808.9039\n",
            "Epoch 92/500\n",
            "2/2 [==============================] - 0s 14ms/step - loss: 16.4418 - mse: 371.0749\n",
            "Epoch 93/500\n",
            "2/2 [==============================] - 0s 12ms/step - loss: 7.4161 - mse: 91.9622\n",
            "Epoch 94/500\n",
            "2/2 [==============================] - 0s 5ms/step - loss: 18.1897 - mse: 524.8021\n",
            "Epoch 95/500\n",
            "2/2 [==============================] - 0s 18ms/step - loss: 14.0563 - mse: 289.1335\n",
            "Epoch 96/500\n",
            "2/2 [==============================] - 0s 8ms/step - loss: 5.4066 - mse: 40.6589\n",
            "Epoch 97/500\n",
            "2/2 [==============================] - 0s 6ms/step - loss: 12.7758 - mse: 231.6411\n",
            "Epoch 98/500\n",
            "2/2 [==============================] - 0s 6ms/step - loss: 14.0366 - mse: 277.5348\n",
            "Epoch 99/500\n",
            "2/2 [==============================] - 0s 5ms/step - loss: 18.4346 - mse: 540.7349\n",
            "Epoch 100/500\n",
            "2/2 [==============================] - 0s 4ms/step - loss: 37.0144 - mse: 2185.7886\n",
            "Epoch 101/500\n",
            "2/2 [==============================] - 0s 4ms/step - loss: 20.5462 - mse: 636.4673\n",
            "Epoch 102/500\n",
            "2/2 [==============================] - 0s 9ms/step - loss: 8.8779 - mse: 135.9233\n",
            "Epoch 103/500\n",
            "2/2 [==============================] - 0s 12ms/step - loss: 8.2469 - mse: 79.1406\n",
            "Epoch 104/500\n",
            "2/2 [==============================] - 0s 4ms/step - loss: 25.2643 - mse: 952.7018\n",
            "Epoch 105/500\n",
            "2/2 [==============================] - 0s 4ms/step - loss: 11.4869 - mse: 213.1482\n",
            "Epoch 106/500\n",
            "2/2 [==============================] - 0s 4ms/step - loss: 8.0557 - mse: 91.8707\n",
            "Epoch 107/500\n",
            "2/2 [==============================] - 0s 4ms/step - loss: 21.6638 - mse: 696.1552\n",
            "Epoch 108/500\n",
            "2/2 [==============================] - 0s 3ms/step - loss: 6.2689 - mse: 56.6506\n",
            "Epoch 109/500\n",
            "2/2 [==============================] - 0s 4ms/step - loss: 19.0556 - mse: 521.4536\n",
            "Epoch 110/500\n",
            "2/2 [==============================] - 0s 6ms/step - loss: 11.3121 - mse: 204.0914\n",
            "Epoch 111/500\n",
            "2/2 [==============================] - 0s 4ms/step - loss: 17.1841 - mse: 438.9671\n",
            "Epoch 112/500\n",
            "2/2 [==============================] - 0s 3ms/step - loss: 7.1904 - mse: 85.0306\n",
            "Epoch 113/500\n",
            "2/2 [==============================] - 0s 4ms/step - loss: 19.4553 - mse: 542.2064\n",
            "Epoch 114/500\n",
            "2/2 [==============================] - 0s 4ms/step - loss: 15.8180 - mse: 374.0870\n",
            "Epoch 115/500\n",
            "2/2 [==============================] - 0s 3ms/step - loss: 9.1278 - mse: 105.9711\n",
            "Epoch 116/500\n",
            "2/2 [==============================] - 0s 4ms/step - loss: 19.8492 - mse: 570.8473\n",
            "Epoch 117/500\n",
            "2/2 [==============================] - 0s 18ms/step - loss: 5.3409 - mse: 38.6999\n",
            "Epoch 118/500\n",
            "2/2 [==============================] - 0s 6ms/step - loss: 10.0749 - mse: 184.9143\n",
            "Epoch 119/500\n",
            "2/2 [==============================] - 0s 7ms/step - loss: 13.2332 - mse: 247.1675\n",
            "Epoch 120/500\n",
            "2/2 [==============================] - 0s 4ms/step - loss: 31.5803 - mse: 1371.6635\n",
            "Epoch 121/500\n",
            "2/2 [==============================] - 0s 3ms/step - loss: 13.3322 - mse: 274.9954\n",
            "Epoch 122/500\n",
            "2/2 [==============================] - 0s 7ms/step - loss: 27.5118 - mse: 1014.3582\n",
            "Epoch 123/500\n",
            "2/2 [==============================] - 0s 5ms/step - loss: 15.8080 - mse: 381.1617\n",
            "Epoch 124/500\n",
            "2/2 [==============================] - 0s 4ms/step - loss: 9.2557 - mse: 113.7599\n",
            "Epoch 125/500\n",
            "2/2 [==============================] - 0s 5ms/step - loss: 13.6775 - mse: 287.3114\n",
            "Epoch 126/500\n",
            "2/2 [==============================] - 0s 6ms/step - loss: 7.7921 - mse: 102.5535\n",
            "Epoch 127/500\n",
            "2/2 [==============================] - 0s 12ms/step - loss: 10.6395 - mse: 177.6043\n",
            "Epoch 128/500\n",
            "2/2 [==============================] - 0s 9ms/step - loss: 13.3172 - mse: 257.5068\n",
            "Epoch 129/500\n",
            "2/2 [==============================] - 0s 6ms/step - loss: 7.7262 - mse: 85.0246\n",
            "Epoch 130/500\n",
            "2/2 [==============================] - 0s 8ms/step - loss: 22.7644 - mse: 726.1064\n",
            "Epoch 131/500\n",
            "2/2 [==============================] - 0s 5ms/step - loss: 8.9047 - mse: 115.6319\n",
            "Epoch 132/500\n",
            "2/2 [==============================] - 0s 7ms/step - loss: 14.2927 - mse: 314.0104\n",
            "Epoch 133/500\n",
            "2/2 [==============================] - 0s 4ms/step - loss: 8.4624 - mse: 130.8994\n",
            "Epoch 134/500\n",
            "2/2 [==============================] - 0s 5ms/step - loss: 19.4938 - mse: 577.8080\n",
            "Epoch 135/500\n",
            "2/2 [==============================] - 0s 5ms/step - loss: 18.6283 - mse: 491.5807\n",
            "Epoch 136/500\n",
            "2/2 [==============================] - 0s 4ms/step - loss: 10.6737 - mse: 156.8566\n",
            "Epoch 137/500\n",
            "2/2 [==============================] - 0s 12ms/step - loss: 29.9316 - mse: 1269.0408\n",
            "Epoch 138/500\n",
            "2/2 [==============================] - 0s 8ms/step - loss: 10.4551 - mse: 147.6302\n",
            "Epoch 139/500\n",
            "2/2 [==============================] - 0s 4ms/step - loss: 9.5320 - mse: 126.8563\n",
            "Epoch 140/500\n",
            "2/2 [==============================] - 0s 4ms/step - loss: 22.3877 - mse: 710.8512\n",
            "Epoch 141/500\n",
            "2/2 [==============================] - 0s 4ms/step - loss: 8.8710 - mse: 110.8597\n",
            "Epoch 142/500\n",
            "2/2 [==============================] - 0s 4ms/step - loss: 28.8182 - mse: 1362.6383\n",
            "Epoch 143/500\n",
            "2/2 [==============================] - 0s 4ms/step - loss: 18.1726 - mse: 461.1681\n",
            "Epoch 144/500\n",
            "2/2 [==============================] - 0s 4ms/step - loss: 12.4611 - mse: 239.6761\n",
            "Epoch 145/500\n",
            "2/2 [==============================] - 0s 7ms/step - loss: 24.8993 - mse: 849.3131\n",
            "Epoch 146/500\n",
            "2/2 [==============================] - 0s 5ms/step - loss: 10.3366 - mse: 160.1353\n",
            "Epoch 147/500\n",
            "2/2 [==============================] - 0s 14ms/step - loss: 13.9275 - mse: 291.3914\n",
            "Epoch 148/500\n",
            "2/2 [==============================] - 0s 8ms/step - loss: 16.3860 - mse: 374.4304\n",
            "Epoch 149/500\n",
            "2/2 [==============================] - 0s 4ms/step - loss: 16.6680 - mse: 407.5641\n",
            "Epoch 150/500\n",
            "2/2 [==============================] - 0s 4ms/step - loss: 15.1193 - mse: 297.8939\n",
            "Epoch 151/500\n",
            "2/2 [==============================] - 0s 6ms/step - loss: 23.8386 - mse: 835.3572\n",
            "Epoch 152/500\n",
            "2/2 [==============================] - 0s 5ms/step - loss: 17.8361 - mse: 462.1588\n",
            "Epoch 153/500\n",
            "2/2 [==============================] - 0s 5ms/step - loss: 15.1899 - mse: 307.2684\n",
            "Epoch 154/500\n",
            "2/2 [==============================] - 0s 8ms/step - loss: 14.5506 - mse: 282.7821\n",
            "Epoch 155/500\n",
            "2/2 [==============================] - 0s 5ms/step - loss: 16.4509 - mse: 430.1398\n",
            "Epoch 156/500\n",
            "2/2 [==============================] - 0s 9ms/step - loss: 14.8712 - mse: 341.4544\n",
            "Epoch 157/500\n",
            "2/2 [==============================] - 0s 4ms/step - loss: 14.5873 - mse: 334.7397\n",
            "Epoch 158/500\n",
            "2/2 [==============================] - 0s 4ms/step - loss: 7.0342 - mse: 115.6328\n",
            "Epoch 159/500\n",
            "2/2 [==============================] - 0s 3ms/step - loss: 14.3179 - mse: 276.2642\n",
            "Epoch 160/500\n",
            "2/2 [==============================] - 0s 4ms/step - loss: 25.6894 - mse: 942.3936\n",
            "Epoch 161/500\n",
            "2/2 [==============================] - 0s 7ms/step - loss: 16.2628 - mse: 410.6918\n",
            "Epoch 162/500\n",
            "2/2 [==============================] - 0s 4ms/step - loss: 13.2133 - mse: 270.1852\n",
            "Epoch 163/500\n",
            "2/2 [==============================] - 0s 3ms/step - loss: 14.9899 - mse: 328.5484\n",
            "Epoch 164/500\n",
            "2/2 [==============================] - 0s 4ms/step - loss: 10.8104 - mse: 192.8424\n",
            "Epoch 165/500\n",
            "2/2 [==============================] - 0s 8ms/step - loss: 13.0012 - mse: 240.9978\n",
            "Epoch 166/500\n",
            "2/2 [==============================] - 0s 4ms/step - loss: 22.6527 - mse: 739.2015\n",
            "Epoch 167/500\n",
            "2/2 [==============================] - 0s 4ms/step - loss: 23.6709 - mse: 833.6583\n",
            "Epoch 168/500\n",
            "2/2 [==============================] - 0s 8ms/step - loss: 8.9088 - mse: 103.4277\n",
            "Epoch 169/500\n",
            "2/2 [==============================] - 0s 4ms/step - loss: 23.2746 - mse: 823.8467\n",
            "Epoch 170/500\n",
            "2/2 [==============================] - 0s 9ms/step - loss: 10.7358 - mse: 235.5133\n",
            "Epoch 171/500\n",
            "2/2 [==============================] - 0s 6ms/step - loss: 19.0860 - mse: 556.6656\n",
            "Epoch 172/500\n",
            "2/2 [==============================] - 0s 5ms/step - loss: 34.5932 - mse: 1920.0537\n",
            "Epoch 173/500\n",
            "2/2 [==============================] - 0s 4ms/step - loss: 19.9656 - mse: 614.4630\n",
            "Epoch 174/500\n",
            "2/2 [==============================] - 0s 5ms/step - loss: 10.5741 - mse: 209.0910\n",
            "Epoch 175/500\n",
            "2/2 [==============================] - 0s 5ms/step - loss: 26.8493 - mse: 1050.5885\n",
            "Epoch 176/500\n",
            "2/2 [==============================] - 0s 7ms/step - loss: 10.5725 - mse: 158.8058\n",
            "Epoch 177/500\n",
            "2/2 [==============================] - 0s 3ms/step - loss: 11.0621 - mse: 258.6642\n",
            "Epoch 178/500\n",
            "2/2 [==============================] - 0s 11ms/step - loss: 18.3194 - mse: 503.5634\n",
            "Epoch 179/500\n",
            "2/2 [==============================] - 0s 5ms/step - loss: 9.8651 - mse: 131.0065\n",
            "Epoch 180/500\n",
            "2/2 [==============================] - 0s 4ms/step - loss: 7.2823 - mse: 80.6903\n",
            "Epoch 181/500\n",
            "2/2 [==============================] - 0s 8ms/step - loss: 19.0273 - mse: 517.9210\n",
            "Epoch 182/500\n",
            "2/2 [==============================] - 0s 6ms/step - loss: 10.0577 - mse: 139.6589\n",
            "Epoch 183/500\n",
            "2/2 [==============================] - 0s 12ms/step - loss: 12.9272 - mse: 267.6080\n",
            "Epoch 184/500\n",
            "2/2 [==============================] - 0s 5ms/step - loss: 21.5624 - mse: 679.0411\n",
            "Epoch 185/500\n",
            "2/2 [==============================] - 0s 4ms/step - loss: 11.4463 - mse: 276.7831\n",
            "Epoch 186/500\n",
            "2/2 [==============================] - 0s 10ms/step - loss: 19.2482 - mse: 555.3168\n",
            "Epoch 187/500\n",
            "2/2 [==============================] - 0s 5ms/step - loss: 16.8634 - mse: 409.0491\n",
            "Epoch 188/500\n",
            "2/2 [==============================] - 0s 6ms/step - loss: 10.5062 - mse: 156.1508\n",
            "Epoch 189/500\n",
            "2/2 [==============================] - 0s 6ms/step - loss: 11.9112 - mse: 258.1155\n",
            "Epoch 190/500\n",
            "2/2 [==============================] - 0s 7ms/step - loss: 17.5337 - mse: 471.4404\n",
            "Epoch 191/500\n",
            "2/2 [==============================] - 0s 4ms/step - loss: 13.1234 - mse: 241.5451\n",
            "Epoch 192/500\n",
            "2/2 [==============================] - 0s 11ms/step - loss: 15.1431 - mse: 311.8487\n",
            "Epoch 193/500\n",
            "2/2 [==============================] - 0s 7ms/step - loss: 30.4423 - mse: 1285.0481\n",
            "Epoch 194/500\n",
            "2/2 [==============================] - 0s 8ms/step - loss: 10.4249 - mse: 187.5638\n",
            "Epoch 195/500\n",
            "2/2 [==============================] - 0s 4ms/step - loss: 11.3687 - mse: 250.0221\n",
            "Epoch 196/500\n",
            "2/2 [==============================] - 0s 3ms/step - loss: 22.6042 - mse: 752.0935\n",
            "Epoch 197/500\n",
            "2/2 [==============================] - 0s 4ms/step - loss: 19.6446 - mse: 566.3824\n",
            "Epoch 198/500\n",
            "2/2 [==============================] - 0s 45ms/step - loss: 11.5210 - mse: 211.5400\n",
            "Epoch 199/500\n",
            "2/2 [==============================] - 0s 10ms/step - loss: 16.9540 - mse: 415.3672\n",
            "Epoch 200/500\n",
            "2/2 [==============================] - 0s 8ms/step - loss: 13.0519 - mse: 259.1106\n",
            "Epoch 201/500\n",
            "2/2 [==============================] - 0s 19ms/step - loss: 10.6942 - mse: 258.3073\n",
            "Epoch 202/500\n",
            "2/2 [==============================] - 0s 4ms/step - loss: 21.3786 - mse: 647.2597\n",
            "Epoch 203/500\n",
            "2/2 [==============================] - 0s 6ms/step - loss: 23.7839 - mse: 806.1472\n",
            "Epoch 204/500\n",
            "2/2 [==============================] - 0s 4ms/step - loss: 18.5995 - mse: 518.9355\n",
            "Epoch 205/500\n",
            "2/2 [==============================] - 0s 4ms/step - loss: 7.9787 - mse: 114.2713\n",
            "Epoch 206/500\n",
            "2/2 [==============================] - 0s 7ms/step - loss: 12.1009 - mse: 227.3598\n",
            "Epoch 207/500\n",
            "2/2 [==============================] - 0s 9ms/step - loss: 11.7498 - mse: 224.7643\n",
            "Epoch 208/500\n",
            "2/2 [==============================] - 0s 8ms/step - loss: 14.1988 - mse: 312.1619\n",
            "Epoch 209/500\n",
            "2/2 [==============================] - 0s 11ms/step - loss: 12.7044 - mse: 270.2789\n",
            "Epoch 210/500\n",
            "2/2 [==============================] - 0s 10ms/step - loss: 17.0656 - mse: 425.6111\n",
            "Epoch 211/500\n",
            "2/2 [==============================] - 0s 10ms/step - loss: 8.7674 - mse: 132.9542\n",
            "Epoch 212/500\n",
            "2/2 [==============================] - 0s 12ms/step - loss: 18.0896 - mse: 491.8188\n",
            "Epoch 213/500\n",
            "2/2 [==============================] - 0s 7ms/step - loss: 14.6662 - mse: 297.2615\n",
            "Epoch 214/500\n",
            "2/2 [==============================] - 0s 7ms/step - loss: 15.9313 - mse: 382.0456\n",
            "Epoch 215/500\n",
            "2/2 [==============================] - 0s 10ms/step - loss: 18.1037 - mse: 468.2406\n",
            "Epoch 216/500\n",
            "2/2 [==============================] - 0s 5ms/step - loss: 10.7773 - mse: 250.3295\n",
            "Epoch 217/500\n",
            "2/2 [==============================] - 0s 6ms/step - loss: 22.6504 - mse: 724.2163\n",
            "Epoch 218/500\n",
            "2/2 [==============================] - 0s 9ms/step - loss: 7.6488 - mse: 81.1377\n",
            "Epoch 219/500\n",
            "2/2 [==============================] - 0s 6ms/step - loss: 10.0894 - mse: 195.7883\n",
            "Epoch 220/500\n",
            "2/2 [==============================] - 0s 4ms/step - loss: 13.2547 - mse: 290.9223\n",
            "Epoch 221/500\n",
            "2/2 [==============================] - 0s 15ms/step - loss: 31.6407 - mse: 1376.0338\n",
            "Epoch 222/500\n",
            "2/2 [==============================] - 0s 5ms/step - loss: 8.3714 - mse: 135.8767\n",
            "Epoch 223/500\n",
            "2/2 [==============================] - 0s 13ms/step - loss: 9.5265 - mse: 164.1933\n",
            "Epoch 224/500\n",
            "2/2 [==============================] - 0s 11ms/step - loss: 13.8587 - mse: 283.9793\n",
            "Epoch 225/500\n",
            "2/2 [==============================] - 0s 4ms/step - loss: 15.6515 - mse: 319.4808\n",
            "Epoch 226/500\n",
            "2/2 [==============================] - 0s 7ms/step - loss: 14.9051 - mse: 322.9917\n",
            "Epoch 227/500\n",
            "2/2 [==============================] - 0s 3ms/step - loss: 18.5676 - mse: 517.5853\n",
            "Epoch 228/500\n",
            "2/2 [==============================] - 0s 6ms/step - loss: 12.2940 - mse: 220.2179\n",
            "Epoch 229/500\n",
            "2/2 [==============================] - 0s 5ms/step - loss: 18.4923 - mse: 501.6366\n",
            "Epoch 230/500\n",
            "2/2 [==============================] - 0s 7ms/step - loss: 15.8342 - mse: 325.4291\n",
            "Epoch 231/500\n",
            "2/2 [==============================] - 0s 4ms/step - loss: 21.6406 - mse: 695.2733\n",
            "Epoch 232/500\n",
            "2/2 [==============================] - 0s 3ms/step - loss: 24.2315 - mse: 831.3232\n",
            "Epoch 233/500\n",
            "2/2 [==============================] - 0s 8ms/step - loss: 17.4942 - mse: 445.6481\n",
            "Epoch 234/500\n",
            "2/2 [==============================] - 0s 3ms/step - loss: 6.3785 - mse: 56.1399\n",
            "Epoch 235/500\n",
            "2/2 [==============================] - 0s 10ms/step - loss: 16.6217 - mse: 390.5085\n",
            "Epoch 236/500\n",
            "2/2 [==============================] - 0s 4ms/step - loss: 5.8079 - mse: 62.3781\n",
            "Epoch 237/500\n",
            "2/2 [==============================] - 0s 4ms/step - loss: 8.7680 - mse: 110.9216\n",
            "Epoch 238/500\n",
            "2/2 [==============================] - 0s 4ms/step - loss: 7.5477 - mse: 79.3548\n",
            "Epoch 239/500\n",
            "2/2 [==============================] - 0s 12ms/step - loss: 18.5500 - mse: 509.8492\n",
            "Epoch 240/500\n",
            "2/2 [==============================] - 0s 15ms/step - loss: 8.1133 - mse: 95.6349\n",
            "Epoch 241/500\n",
            "2/2 [==============================] - 0s 5ms/step - loss: 13.3357 - mse: 287.6123\n",
            "Epoch 242/500\n",
            "2/2 [==============================] - 0s 4ms/step - loss: 7.4722 - mse: 85.8865\n",
            "Epoch 243/500\n",
            "2/2 [==============================] - 0s 6ms/step - loss: 20.1453 - mse: 608.1737\n",
            "Epoch 244/500\n",
            "2/2 [==============================] - 0s 8ms/step - loss: 13.7730 - mse: 265.9243\n",
            "Epoch 245/500\n",
            "2/2 [==============================] - 0s 4ms/step - loss: 16.0733 - mse: 377.0530\n",
            "Epoch 246/500\n",
            "2/2 [==============================] - 0s 13ms/step - loss: 16.6651 - mse: 454.2615\n",
            "Epoch 247/500\n",
            "2/2 [==============================] - 0s 9ms/step - loss: 18.6580 - mse: 495.5720\n",
            "Epoch 248/500\n",
            "2/2 [==============================] - 0s 5ms/step - loss: 14.1649 - mse: 273.2536\n",
            "Epoch 249/500\n",
            "2/2 [==============================] - 0s 5ms/step - loss: 14.8128 - mse: 311.0341\n",
            "Epoch 250/500\n",
            "2/2 [==============================] - 0s 3ms/step - loss: 23.6249 - mse: 824.2030\n",
            "Epoch 251/500\n",
            "2/2 [==============================] - 0s 5ms/step - loss: 13.7817 - mse: 296.2169\n",
            "Epoch 252/500\n",
            "2/2 [==============================] - 0s 7ms/step - loss: 20.7593 - mse: 620.5835\n",
            "Epoch 253/500\n",
            "2/2 [==============================] - 0s 5ms/step - loss: 8.3505 - mse: 100.7101\n",
            "Epoch 254/500\n",
            "2/2 [==============================] - 0s 4ms/step - loss: 14.7021 - mse: 319.7593\n",
            "Epoch 255/500\n",
            "2/2 [==============================] - 0s 7ms/step - loss: 12.5302 - mse: 234.6484\n",
            "Epoch 256/500\n",
            "2/2 [==============================] - 0s 3ms/step - loss: 7.7422 - mse: 122.5395\n",
            "Epoch 257/500\n",
            "2/2 [==============================] - 0s 4ms/step - loss: 11.5678 - mse: 230.6084\n",
            "Epoch 258/500\n",
            "2/2 [==============================] - 0s 4ms/step - loss: 5.0314 - mse: 39.6446\n",
            "Epoch 259/500\n",
            "2/2 [==============================] - 0s 4ms/step - loss: 22.9601 - mse: 727.8873\n",
            "Epoch 260/500\n",
            "2/2 [==============================] - 0s 8ms/step - loss: 30.5788 - mse: 1402.5681\n",
            "Epoch 261/500\n",
            "2/2 [==============================] - 0s 3ms/step - loss: 9.8653 - mse: 148.1433\n",
            "Epoch 262/500\n",
            "2/2 [==============================] - 0s 6ms/step - loss: 8.8919 - mse: 120.0349\n",
            "Epoch 263/500\n",
            "2/2 [==============================] - 0s 8ms/step - loss: 8.0481 - mse: 91.6065\n",
            "Epoch 264/500\n",
            "2/2 [==============================] - 0s 7ms/step - loss: 21.5323 - mse: 652.6158\n",
            "Epoch 265/500\n",
            "2/2 [==============================] - 0s 6ms/step - loss: 11.1677 - mse: 207.5997\n",
            "Epoch 266/500\n",
            "2/2 [==============================] - 0s 7ms/step - loss: 12.4199 - mse: 243.1976\n",
            "Epoch 267/500\n",
            "2/2 [==============================] - 0s 6ms/step - loss: 9.8182 - mse: 230.5743\n",
            "Epoch 268/500\n",
            "2/2 [==============================] - 0s 4ms/step - loss: 21.0744 - mse: 641.5728\n",
            "Epoch 269/500\n",
            "2/2 [==============================] - 0s 6ms/step - loss: 34.8872 - mse: 1831.7780\n",
            "Epoch 270/500\n",
            "2/2 [==============================] - 0s 27ms/step - loss: 11.0944 - mse: 204.5462\n",
            "Epoch 271/500\n",
            "2/2 [==============================] - 0s 18ms/step - loss: 14.7138 - mse: 276.0905\n",
            "Epoch 272/500\n",
            "2/2 [==============================] - 0s 10ms/step - loss: 28.7336 - mse: 1141.1736\n",
            "Epoch 273/500\n",
            "2/2 [==============================] - 0s 4ms/step - loss: 6.8033 - mse: 73.5284\n",
            "Epoch 274/500\n",
            "2/2 [==============================] - 0s 4ms/step - loss: 5.5895 - mse: 36.8980\n",
            "Epoch 275/500\n",
            "2/2 [==============================] - 0s 5ms/step - loss: 39.0692 - mse: 2355.7292\n",
            "Epoch 276/500\n",
            "2/2 [==============================] - 0s 4ms/step - loss: 7.5691 - mse: 94.7803\n",
            "Epoch 277/500\n",
            "2/2 [==============================] - 0s 7ms/step - loss: 29.1382 - mse: 1179.9124\n",
            "Epoch 278/500\n",
            "2/2 [==============================] - 0s 4ms/step - loss: 9.8815 - mse: 217.7582\n",
            "Epoch 279/500\n",
            "2/2 [==============================] - 0s 6ms/step - loss: 15.5675 - mse: 358.0167\n",
            "Epoch 280/500\n",
            "2/2 [==============================] - 0s 3ms/step - loss: 20.0835 - mse: 624.5952\n",
            "Epoch 281/500\n",
            "2/2 [==============================] - 0s 6ms/step - loss: 13.8413 - mse: 307.6292\n",
            "Epoch 282/500\n",
            "2/2 [==============================] - 0s 5ms/step - loss: 8.2235 - mse: 182.5886\n",
            "Epoch 283/500\n",
            "2/2 [==============================] - 0s 4ms/step - loss: 14.7466 - mse: 304.3192\n",
            "Epoch 284/500\n",
            "2/2 [==============================] - 0s 4ms/step - loss: 25.0989 - mse: 887.6095\n",
            "Epoch 285/500\n",
            "2/2 [==============================] - 0s 4ms/step - loss: 16.6092 - mse: 425.0470\n",
            "Epoch 286/500\n",
            "2/2 [==============================] - 0s 6ms/step - loss: 8.8126 - mse: 189.0148\n",
            "Epoch 287/500\n",
            "2/2 [==============================] - 0s 8ms/step - loss: 21.1667 - mse: 672.6141\n",
            "Epoch 288/500\n",
            "2/2 [==============================] - 0s 4ms/step - loss: 26.5725 - mse: 1057.4919\n",
            "Epoch 289/500\n",
            "2/2 [==============================] - 0s 4ms/step - loss: 10.4805 - mse: 243.9679\n",
            "Epoch 290/500\n",
            "2/2 [==============================] - 0s 17ms/step - loss: 15.6797 - mse: 326.7105\n",
            "Epoch 291/500\n",
            "2/2 [==============================] - 0s 3ms/step - loss: 15.9232 - mse: 367.4302\n",
            "Epoch 292/500\n",
            "2/2 [==============================] - 0s 4ms/step - loss: 19.2346 - mse: 575.3467\n",
            "Epoch 293/500\n",
            "2/2 [==============================] - 0s 4ms/step - loss: 6.2143 - mse: 56.3595\n",
            "Epoch 294/500\n",
            "2/2 [==============================] - 0s 18ms/step - loss: 27.2290 - mse: 1152.5787\n",
            "Epoch 295/500\n",
            "2/2 [==============================] - 0s 7ms/step - loss: 6.6742 - mse: 72.2186\n",
            "Epoch 296/500\n",
            "2/2 [==============================] - 0s 7ms/step - loss: 14.0652 - mse: 289.6406\n",
            "Epoch 297/500\n",
            "2/2 [==============================] - 0s 5ms/step - loss: 14.6328 - mse: 305.9863\n",
            "Epoch 298/500\n",
            "2/2 [==============================] - 0s 14ms/step - loss: 22.3866 - mse: 745.8066\n",
            "Epoch 299/500\n",
            "2/2 [==============================] - 0s 5ms/step - loss: 19.4873 - mse: 561.3488\n",
            "Epoch 300/500\n",
            "2/2 [==============================] - 0s 3ms/step - loss: 8.3393 - mse: 118.7563\n",
            "Epoch 301/500\n",
            "2/2 [==============================] - 0s 4ms/step - loss: 11.6246 - mse: 217.1750\n",
            "Epoch 302/500\n",
            "2/2 [==============================] - 0s 6ms/step - loss: 6.5840 - mse: 66.1983\n",
            "Epoch 303/500\n",
            "2/2 [==============================] - 0s 4ms/step - loss: 17.8675 - mse: 465.1849\n",
            "Epoch 304/500\n",
            "2/2 [==============================] - 0s 22ms/step - loss: 9.7546 - mse: 150.6301\n",
            "Epoch 305/500\n",
            "2/2 [==============================] - 0s 7ms/step - loss: 12.4962 - mse: 270.4226\n",
            "Epoch 306/500\n",
            "2/2 [==============================] - 0s 5ms/step - loss: 6.8044 - mse: 74.3357\n",
            "Epoch 307/500\n",
            "2/2 [==============================] - 0s 8ms/step - loss: 11.4614 - mse: 214.1925\n",
            "Epoch 308/500\n",
            "2/2 [==============================] - 0s 10ms/step - loss: 6.8601 - mse: 71.3380\n",
            "Epoch 309/500\n",
            "2/2 [==============================] - 0s 3ms/step - loss: 10.8584 - mse: 213.2459\n",
            "Epoch 310/500\n",
            "2/2 [==============================] - 0s 6ms/step - loss: 7.1870 - mse: 139.2487\n",
            "Epoch 311/500\n",
            "2/2 [==============================] - 0s 4ms/step - loss: 12.5598 - mse: 276.4306\n",
            "Epoch 312/500\n",
            "2/2 [==============================] - 0s 4ms/step - loss: 28.9986 - mse: 1170.1205\n",
            "Epoch 313/500\n",
            "2/2 [==============================] - 0s 4ms/step - loss: 9.3228 - mse: 145.9522\n",
            "Epoch 314/500\n",
            "2/2 [==============================] - 0s 5ms/step - loss: 12.1199 - mse: 280.9012\n",
            "Epoch 315/500\n",
            "2/2 [==============================] - 0s 3ms/step - loss: 23.6116 - mse: 817.6206\n",
            "Epoch 316/500\n",
            "2/2 [==============================] - 0s 3ms/step - loss: 16.7818 - mse: 419.5473\n",
            "Epoch 317/500\n",
            "2/2 [==============================] - 0s 6ms/step - loss: 20.0303 - mse: 551.4398\n",
            "Epoch 318/500\n",
            "2/2 [==============================] - 0s 10ms/step - loss: 7.0154 - mse: 67.1751\n",
            "Epoch 319/500\n",
            "2/2 [==============================] - 0s 18ms/step - loss: 17.5627 - mse: 459.3524\n",
            "Epoch 320/500\n",
            "2/2 [==============================] - 0s 12ms/step - loss: 8.8943 - mse: 147.9449\n",
            "Epoch 321/500\n",
            "2/2 [==============================] - 0s 6ms/step - loss: 7.6910 - mse: 100.7673\n",
            "Epoch 322/500\n",
            "2/2 [==============================] - 0s 23ms/step - loss: 6.5160 - mse: 75.2135\n",
            "Epoch 323/500\n",
            "2/2 [==============================] - 0s 8ms/step - loss: 15.8830 - mse: 377.3827\n",
            "Epoch 324/500\n",
            "2/2 [==============================] - 0s 5ms/step - loss: 9.6865 - mse: 227.8224\n",
            "Epoch 325/500\n",
            "2/2 [==============================] - 0s 3ms/step - loss: 13.9623 - mse: 284.0010\n",
            "Epoch 326/500\n",
            "2/2 [==============================] - 0s 5ms/step - loss: 24.5398 - mse: 872.9908\n",
            "Epoch 327/500\n",
            "2/2 [==============================] - 0s 4ms/step - loss: 18.1447 - mse: 468.1436\n",
            "Epoch 328/500\n",
            "2/2 [==============================] - 0s 4ms/step - loss: 14.0589 - mse: 277.2689\n",
            "Epoch 329/500\n",
            "2/2 [==============================] - 0s 7ms/step - loss: 17.1167 - mse: 458.6204\n",
            "Epoch 330/500\n",
            "2/2 [==============================] - 0s 12ms/step - loss: 6.2298 - mse: 77.2929\n",
            "Epoch 331/500\n",
            "2/2 [==============================] - 0s 7ms/step - loss: 21.3239 - mse: 681.7946\n",
            "Epoch 332/500\n",
            "2/2 [==============================] - 0s 5ms/step - loss: 11.3798 - mse: 230.6803\n",
            "Epoch 333/500\n",
            "2/2 [==============================] - 0s 11ms/step - loss: 7.4196 - mse: 86.0605\n",
            "Epoch 334/500\n",
            "2/2 [==============================] - 0s 7ms/step - loss: 12.7037 - mse: 258.0747\n",
            "Epoch 335/500\n",
            "2/2 [==============================] - 0s 4ms/step - loss: 13.3630 - mse: 249.6899\n",
            "Epoch 336/500\n",
            "2/2 [==============================] - 0s 3ms/step - loss: 32.9287 - mse: 1485.7963\n",
            "Epoch 337/500\n",
            "2/2 [==============================] - 0s 3ms/step - loss: 11.7260 - mse: 201.5912\n",
            "Epoch 338/500\n",
            "2/2 [==============================] - 0s 7ms/step - loss: 20.5379 - mse: 619.5734\n",
            "Epoch 339/500\n",
            "2/2 [==============================] - 0s 3ms/step - loss: 32.5840 - mse: 1570.1304\n",
            "Epoch 340/500\n",
            "2/2 [==============================] - 0s 9ms/step - loss: 7.6347 - mse: 91.1615\n",
            "Epoch 341/500\n",
            "2/2 [==============================] - 0s 6ms/step - loss: 21.0058 - mse: 612.8328\n",
            "Epoch 342/500\n",
            "2/2 [==============================] - 0s 5ms/step - loss: 14.2101 - mse: 270.1675\n",
            "Epoch 343/500\n",
            "2/2 [==============================] - 0s 31ms/step - loss: 11.7696 - mse: 186.6247\n",
            "Epoch 344/500\n",
            "2/2 [==============================] - 0s 4ms/step - loss: 10.7559 - mse: 279.2126\n",
            "Epoch 345/500\n",
            "2/2 [==============================] - 0s 5ms/step - loss: 30.2596 - mse: 1296.1740\n",
            "Epoch 346/500\n",
            "2/2 [==============================] - 0s 4ms/step - loss: 8.8748 - mse: 233.9137\n",
            "Epoch 347/500\n",
            "2/2 [==============================] - 0s 4ms/step - loss: 25.5086 - mse: 919.4497\n",
            "Epoch 348/500\n",
            "2/2 [==============================] - 0s 7ms/step - loss: 13.3910 - mse: 279.0860\n",
            "Epoch 349/500\n",
            "2/2 [==============================] - 0s 4ms/step - loss: 13.4265 - mse: 255.8176\n",
            "Epoch 350/500\n",
            "2/2 [==============================] - 0s 3ms/step - loss: 15.3300 - mse: 331.0464\n",
            "Epoch 351/500\n",
            "2/2 [==============================] - 0s 17ms/step - loss: 32.9060 - mse: 1522.9227\n",
            "Epoch 352/500\n",
            "2/2 [==============================] - 0s 11ms/step - loss: 13.9419 - mse: 274.7335\n",
            "Epoch 353/500\n",
            "2/2 [==============================] - 0s 4ms/step - loss: 19.4165 - mse: 590.6389\n",
            "Epoch 354/500\n",
            "2/2 [==============================] - 0s 6ms/step - loss: 25.3515 - mse: 923.0735\n",
            "Epoch 355/500\n",
            "2/2 [==============================] - 0s 4ms/step - loss: 20.7717 - mse: 618.9181\n",
            "Epoch 356/500\n",
            "2/2 [==============================] - 0s 5ms/step - loss: 10.7978 - mse: 258.3449\n",
            "Epoch 357/500\n",
            "2/2 [==============================] - 0s 3ms/step - loss: 23.8196 - mse: 802.4671\n",
            "Epoch 358/500\n",
            "2/2 [==============================] - 0s 6ms/step - loss: 24.8339 - mse: 888.9513\n",
            "Epoch 359/500\n",
            "2/2 [==============================] - 0s 6ms/step - loss: 8.2024 - mse: 208.1551\n",
            "Epoch 360/500\n",
            "2/2 [==============================] - 0s 6ms/step - loss: 22.5069 - mse: 751.4625\n",
            "Epoch 361/500\n",
            "2/2 [==============================] - 0s 6ms/step - loss: 18.1884 - mse: 486.9539\n",
            "Epoch 362/500\n",
            "2/2 [==============================] - 0s 5ms/step - loss: 6.0383 - mse: 72.0144\n",
            "Epoch 363/500\n",
            "2/2 [==============================] - 0s 5ms/step - loss: 23.8685 - mse: 824.6669\n",
            "Epoch 364/500\n",
            "2/2 [==============================] - 0s 3ms/step - loss: 29.4815 - mse: 1259.8781\n",
            "Epoch 365/500\n",
            "2/2 [==============================] - 0s 13ms/step - loss: 7.6273 - mse: 97.4714\n",
            "Epoch 366/500\n",
            "2/2 [==============================] - 0s 11ms/step - loss: 5.4290 - mse: 40.3666\n",
            "Epoch 367/500\n",
            "2/2 [==============================] - 0s 5ms/step - loss: 38.2833 - mse: 2240.4810\n",
            "Epoch 368/500\n",
            "2/2 [==============================] - 0s 11ms/step - loss: 7.4005 - mse: 97.0349\n",
            "Epoch 369/500\n",
            "2/2 [==============================] - 0s 5ms/step - loss: 11.9166 - mse: 229.6244\n",
            "Epoch 370/500\n",
            "2/2 [==============================] - 0s 13ms/step - loss: 10.3573 - mse: 266.0900\n",
            "Epoch 371/500\n",
            "2/2 [==============================] - 0s 8ms/step - loss: 19.3334 - mse: 564.1239\n",
            "Epoch 372/500\n",
            "2/2 [==============================] - 0s 7ms/step - loss: 10.5469 - mse: 302.1133\n",
            "Epoch 373/500\n",
            "2/2 [==============================] - 0s 7ms/step - loss: 24.9290 - mse: 914.7904\n",
            "Epoch 374/500\n",
            "2/2 [==============================] - 0s 7ms/step - loss: 13.4919 - mse: 294.4971\n",
            "Epoch 375/500\n",
            "2/2 [==============================] - 0s 11ms/step - loss: 13.1671 - mse: 243.6496\n",
            "Epoch 376/500\n",
            "2/2 [==============================] - 0s 6ms/step - loss: 14.8946 - mse: 321.4303\n",
            "Epoch 377/500\n",
            "2/2 [==============================] - 0s 4ms/step - loss: 15.9112 - mse: 326.2437\n",
            "Epoch 378/500\n",
            "2/2 [==============================] - 0s 8ms/step - loss: 17.6508 - mse: 491.2057\n",
            "Epoch 379/500\n",
            "2/2 [==============================] - 0s 16ms/step - loss: 36.1420 - mse: 1958.7869\n",
            "Epoch 380/500\n",
            "2/2 [==============================] - 0s 7ms/step - loss: 32.3606 - mse: 1553.3490\n",
            "Epoch 381/500\n",
            "2/2 [==============================] - 0s 3ms/step - loss: 7.0675 - mse: 83.4251\n",
            "Epoch 382/500\n",
            "2/2 [==============================] - 0s 7ms/step - loss: 12.2033 - mse: 252.1955\n",
            "Epoch 383/500\n",
            "2/2 [==============================] - 0s 4ms/step - loss: 8.7383 - mse: 125.3142\n",
            "Epoch 384/500\n",
            "2/2 [==============================] - 0s 6ms/step - loss: 5.9490 - mse: 58.9654\n",
            "Epoch 385/500\n",
            "2/2 [==============================] - 0s 12ms/step - loss: 11.4957 - mse: 287.5617\n",
            "Epoch 386/500\n",
            "2/2 [==============================] - 0s 8ms/step - loss: 18.9413 - mse: 567.3800\n",
            "Epoch 387/500\n",
            "2/2 [==============================] - 0s 5ms/step - loss: 26.7155 - mse: 1036.2472\n",
            "Epoch 388/500\n",
            "2/2 [==============================] - 0s 5ms/step - loss: 10.3484 - mse: 194.4234\n",
            "Epoch 389/500\n",
            "2/2 [==============================] - 0s 4ms/step - loss: 11.1354 - mse: 258.8537\n",
            "Epoch 390/500\n",
            "2/2 [==============================] - 0s 4ms/step - loss: 16.5373 - mse: 414.1368\n",
            "Epoch 391/500\n",
            "2/2 [==============================] - 0s 4ms/step - loss: 16.2601 - mse: 376.3253\n",
            "Epoch 392/500\n",
            "2/2 [==============================] - 0s 4ms/step - loss: 14.7038 - mse: 343.2856\n",
            "Epoch 393/500\n",
            "2/2 [==============================] - 0s 4ms/step - loss: 23.5189 - mse: 816.2069\n",
            "Epoch 394/500\n",
            "2/2 [==============================] - 0s 5ms/step - loss: 18.7746 - mse: 509.8434\n",
            "Epoch 395/500\n",
            "2/2 [==============================] - 0s 17ms/step - loss: 13.9386 - mse: 308.8698\n",
            "Epoch 396/500\n",
            "2/2 [==============================] - 0s 4ms/step - loss: 6.0356 - mse: 97.5811\n",
            "Epoch 397/500\n",
            "2/2 [==============================] - 0s 3ms/step - loss: 6.0636 - mse: 59.8606\n",
            "Epoch 398/500\n",
            "2/2 [==============================] - 0s 4ms/step - loss: 23.1846 - mse: 750.3732\n",
            "Epoch 399/500\n",
            "2/2 [==============================] - 0s 4ms/step - loss: 5.6559 - mse: 55.5320\n",
            "Epoch 400/500\n",
            "2/2 [==============================] - 0s 3ms/step - loss: 24.0223 - mse: 827.6979\n",
            "Epoch 401/500\n",
            "2/2 [==============================] - 0s 11ms/step - loss: 12.6390 - mse: 288.8649\n",
            "Epoch 402/500\n",
            "2/2 [==============================] - 0s 10ms/step - loss: 21.6643 - mse: 693.8087\n",
            "Epoch 403/500\n",
            "2/2 [==============================] - 0s 4ms/step - loss: 22.4843 - mse: 743.2542\n",
            "Epoch 404/500\n",
            "2/2 [==============================] - 0s 4ms/step - loss: 14.3106 - mse: 339.6775\n",
            "Epoch 405/500\n",
            "2/2 [==============================] - 0s 3ms/step - loss: 8.8265 - mse: 247.5962\n",
            "Epoch 406/500\n",
            "2/2 [==============================] - 0s 3ms/step - loss: 20.3746 - mse: 652.2856\n",
            "Epoch 407/500\n",
            "2/2 [==============================] - 0s 4ms/step - loss: 18.8178 - mse: 517.9020\n",
            "Epoch 408/500\n",
            "2/2 [==============================] - 0s 5ms/step - loss: 8.0879 - mse: 130.7221\n",
            "Epoch 409/500\n",
            "2/2 [==============================] - 0s 7ms/step - loss: 12.5926 - mse: 242.5153\n",
            "Epoch 410/500\n",
            "2/2 [==============================] - 0s 5ms/step - loss: 15.0722 - mse: 313.3747\n",
            "Epoch 411/500\n",
            "2/2 [==============================] - 0s 6ms/step - loss: 16.6618 - mse: 407.2741\n",
            "Epoch 412/500\n",
            "2/2 [==============================] - 0s 7ms/step - loss: 25.0194 - mse: 922.2141\n",
            "Epoch 413/500\n",
            "2/2 [==============================] - 0s 4ms/step - loss: 13.0426 - mse: 267.1513\n",
            "Epoch 414/500\n",
            "2/2 [==============================] - 0s 4ms/step - loss: 9.6529 - mse: 235.7084\n",
            "Epoch 415/500\n",
            "2/2 [==============================] - 0s 3ms/step - loss: 11.1650 - mse: 281.1209\n",
            "Epoch 416/500\n",
            "2/2 [==============================] - 0s 6ms/step - loss: 24.6375 - mse: 854.6129\n",
            "Epoch 417/500\n",
            "2/2 [==============================] - 0s 5ms/step - loss: 18.6198 - mse: 508.1410\n",
            "Epoch 418/500\n",
            "2/2 [==============================] - 0s 6ms/step - loss: 12.5354 - mse: 234.4597\n",
            "Epoch 419/500\n",
            "2/2 [==============================] - 0s 8ms/step - loss: 15.3581 - mse: 342.9354\n",
            "Epoch 420/500\n",
            "2/2 [==============================] - 0s 6ms/step - loss: 23.9200 - mse: 803.2762\n",
            "Epoch 421/500\n",
            "2/2 [==============================] - 0s 9ms/step - loss: 19.4173 - mse: 539.6464\n",
            "Epoch 422/500\n",
            "2/2 [==============================] - 0s 4ms/step - loss: 4.4690 - mse: 38.0757\n",
            "Epoch 423/500\n",
            "2/2 [==============================] - 0s 4ms/step - loss: 28.0967 - mse: 1099.2683\n",
            "Epoch 424/500\n",
            "2/2 [==============================] - 0s 7ms/step - loss: 8.1609 - mse: 155.2184\n",
            "Epoch 425/500\n",
            "2/2 [==============================] - 0s 5ms/step - loss: 13.0406 - mse: 267.0277\n",
            "Epoch 426/500\n",
            "2/2 [==============================] - 0s 13ms/step - loss: 6.3043 - mse: 121.8020\n",
            "Epoch 427/500\n",
            "2/2 [==============================] - 0s 7ms/step - loss: 17.8450 - mse: 521.0613\n",
            "Epoch 428/500\n",
            "2/2 [==============================] - 0s 13ms/step - loss: 7.3233 - mse: 109.6427\n",
            "Epoch 429/500\n",
            "2/2 [==============================] - 0s 8ms/step - loss: 21.1345 - mse: 660.4748\n",
            "Epoch 430/500\n",
            "2/2 [==============================] - 0s 13ms/step - loss: 15.1256 - mse: 372.4344\n",
            "Epoch 431/500\n",
            "2/2 [==============================] - 0s 13ms/step - loss: 7.7339 - mse: 130.4546\n",
            "Epoch 432/500\n",
            "2/2 [==============================] - 0s 4ms/step - loss: 17.7015 - mse: 447.4426\n",
            "Epoch 433/500\n",
            "2/2 [==============================] - 0s 15ms/step - loss: 10.9709 - mse: 319.8105\n",
            "Epoch 434/500\n",
            "2/2 [==============================] - 0s 24ms/step - loss: 30.0979 - mse: 1276.3126\n",
            "Epoch 435/500\n",
            "2/2 [==============================] - 0s 4ms/step - loss: 9.9742 - mse: 313.4603\n",
            "Epoch 436/500\n",
            "2/2 [==============================] - 0s 6ms/step - loss: 28.4556 - mse: 1187.6028\n",
            "Epoch 437/500\n",
            "2/2 [==============================] - 0s 6ms/step - loss: 6.3405 - mse: 126.0909\n",
            "Epoch 438/500\n",
            "2/2 [==============================] - 0s 6ms/step - loss: 13.0095 - mse: 235.4508\n",
            "Epoch 439/500\n",
            "2/2 [==============================] - 0s 4ms/step - loss: 34.2761 - mse: 1628.3203\n",
            "Epoch 440/500\n",
            "2/2 [==============================] - 0s 6ms/step - loss: 15.7487 - mse: 331.5978\n",
            "Epoch 441/500\n",
            "2/2 [==============================] - 0s 6ms/step - loss: 18.2034 - mse: 537.7557\n",
            "Epoch 442/500\n",
            "2/2 [==============================] - 0s 4ms/step - loss: 27.1642 - mse: 1073.4974\n",
            "Epoch 443/500\n",
            "2/2 [==============================] - 0s 5ms/step - loss: 9.7560 - mse: 195.9412\n",
            "Epoch 444/500\n",
            "2/2 [==============================] - 0s 9ms/step - loss: 5.5193 - mse: 62.7498\n",
            "Epoch 445/500\n",
            "2/2 [==============================] - 0s 5ms/step - loss: 8.5437 - mse: 209.7500\n",
            "Epoch 446/500\n",
            "2/2 [==============================] - 0s 5ms/step - loss: 15.1238 - mse: 340.5191\n",
            "Epoch 447/500\n",
            "2/2 [==============================] - 0s 6ms/step - loss: 22.1345 - mse: 758.3290\n",
            "Epoch 448/500\n",
            "2/2 [==============================] - 0s 6ms/step - loss: 14.3417 - mse: 310.2689\n",
            "Epoch 449/500\n",
            "2/2 [==============================] - 0s 4ms/step - loss: 12.4855 - mse: 260.6234\n",
            "Epoch 450/500\n",
            "2/2 [==============================] - 0s 4ms/step - loss: 15.4662 - mse: 341.2908\n",
            "Epoch 451/500\n",
            "2/2 [==============================] - 0s 7ms/step - loss: 17.7343 - mse: 499.3804\n",
            "Epoch 452/500\n",
            "2/2 [==============================] - 0s 4ms/step - loss: 43.5266 - mse: 3279.4966\n",
            "Epoch 453/500\n",
            "2/2 [==============================] - 0s 4ms/step - loss: 24.8574 - mse: 877.1079\n",
            "Epoch 454/500\n",
            "2/2 [==============================] - 0s 8ms/step - loss: 20.9522 - mse: 634.7928\n",
            "Epoch 455/500\n",
            "2/2 [==============================] - 0s 15ms/step - loss: 5.7761 - mse: 58.2548\n",
            "Epoch 456/500\n",
            "2/2 [==============================] - 0s 11ms/step - loss: 8.6472 - mse: 167.8525\n",
            "Epoch 457/500\n",
            "2/2 [==============================] - 0s 9ms/step - loss: 8.9331 - mse: 296.8648\n",
            "Epoch 458/500\n",
            "2/2 [==============================] - 0s 5ms/step - loss: 14.9988 - mse: 308.6128\n",
            "Epoch 459/500\n",
            "2/2 [==============================] - 0s 9ms/step - loss: 27.7898 - mse: 1102.5563\n",
            "Epoch 460/500\n",
            "2/2 [==============================] - 0s 4ms/step - loss: 10.0134 - mse: 196.0757\n",
            "Epoch 461/500\n",
            "2/2 [==============================] - 0s 5ms/step - loss: 13.2287 - mse: 263.8598\n",
            "Epoch 462/500\n",
            "2/2 [==============================] - 0s 5ms/step - loss: 13.7563 - mse: 264.5079\n",
            "Epoch 463/500\n",
            "2/2 [==============================] - 0s 6ms/step - loss: 30.1555 - mse: 1270.7720\n",
            "Epoch 464/500\n",
            "2/2 [==============================] - 0s 12ms/step - loss: 8.5408 - mse: 220.4431\n",
            "Epoch 465/500\n",
            "2/2 [==============================] - 0s 11ms/step - loss: 20.4767 - mse: 649.8872\n",
            "Epoch 466/500\n",
            "2/2 [==============================] - 0s 12ms/step - loss: 27.6655 - mse: 1120.9800\n",
            "Epoch 467/500\n",
            "2/2 [==============================] - 0s 12ms/step - loss: 16.6549 - mse: 402.9753\n",
            "Epoch 468/500\n",
            "2/2 [==============================] - 0s 22ms/step - loss: 10.5740 - mse: 314.5165\n",
            "Epoch 469/500\n",
            "2/2 [==============================] - 0s 7ms/step - loss: 26.8058 - mse: 1014.1552\n",
            "Epoch 470/500\n",
            "2/2 [==============================] - 0s 7ms/step - loss: 13.8688 - mse: 316.1662\n",
            "Epoch 471/500\n",
            "2/2 [==============================] - 0s 10ms/step - loss: 10.6145 - mse: 211.5069\n",
            "Epoch 472/500\n",
            "2/2 [==============================] - 0s 15ms/step - loss: 15.8226 - mse: 366.8965\n",
            "Epoch 473/500\n",
            "2/2 [==============================] - 0s 8ms/step - loss: 16.1642 - mse: 439.2026\n",
            "Epoch 474/500\n",
            "2/2 [==============================] - 0s 6ms/step - loss: 48.2517 - mse: 3754.6707\n",
            "Epoch 475/500\n",
            "2/2 [==============================] - 0s 4ms/step - loss: 21.9715 - mse: 685.1403\n",
            "Epoch 476/500\n",
            "2/2 [==============================] - 0s 5ms/step - loss: 12.6952 - mse: 246.8934\n",
            "Epoch 477/500\n",
            "2/2 [==============================] - 0s 6ms/step - loss: 28.4527 - mse: 1138.9319\n",
            "Epoch 478/500\n",
            "2/2 [==============================] - 0s 17ms/step - loss: 6.3968 - mse: 73.2614\n",
            "Epoch 479/500\n",
            "2/2 [==============================] - 0s 15ms/step - loss: 5.3370 - mse: 57.9622\n",
            "Epoch 480/500\n",
            "2/2 [==============================] - 0s 5ms/step - loss: 18.8876 - mse: 516.2590\n",
            "Epoch 481/500\n",
            "2/2 [==============================] - 0s 13ms/step - loss: 11.1926 - mse: 304.8303\n",
            "Epoch 482/500\n",
            "2/2 [==============================] - 0s 13ms/step - loss: 18.1504 - mse: 548.9915\n",
            "Epoch 483/500\n",
            "2/2 [==============================] - 0s 10ms/step - loss: 20.4589 - mse: 591.2194\n",
            "Epoch 484/500\n",
            "2/2 [==============================] - 0s 16ms/step - loss: 18.4899 - mse: 480.5287\n",
            "Epoch 485/500\n",
            "2/2 [==============================] - 0s 7ms/step - loss: 8.2206 - mse: 237.7094\n",
            "Epoch 486/500\n",
            "2/2 [==============================] - 0s 11ms/step - loss: 18.4912 - mse: 528.9442\n",
            "Epoch 487/500\n",
            "2/2 [==============================] - 0s 8ms/step - loss: 5.6526 - mse: 69.7634\n",
            "Epoch 488/500\n",
            "2/2 [==============================] - 0s 11ms/step - loss: 29.7867 - mse: 1295.4061\n",
            "Epoch 489/500\n",
            "2/2 [==============================] - 0s 6ms/step - loss: 12.6093 - mse: 239.2585\n",
            "Epoch 490/500\n",
            "2/2 [==============================] - 0s 7ms/step - loss: 13.0323 - mse: 246.9094\n",
            "Epoch 491/500\n",
            "2/2 [==============================] - 0s 5ms/step - loss: 24.3327 - mse: 883.4498\n",
            "Epoch 492/500\n",
            "2/2 [==============================] - 0s 14ms/step - loss: 18.7733 - mse: 497.8009\n",
            "Epoch 493/500\n",
            "2/2 [==============================] - 0s 11ms/step - loss: 2.3898 - mse: 8.2697\n",
            "Epoch 494/500\n",
            "2/2 [==============================] - 0s 5ms/step - loss: 11.5020 - mse: 214.7336\n",
            "Epoch 495/500\n",
            "2/2 [==============================] - 0s 7ms/step - loss: 14.1395 - mse: 270.5159\n",
            "Epoch 496/500\n",
            "2/2 [==============================] - 0s 7ms/step - loss: 13.0191 - mse: 244.0017\n",
            "Epoch 497/500\n",
            "2/2 [==============================] - 0s 3ms/step - loss: 18.1508 - mse: 546.2523\n",
            "Epoch 498/500\n",
            "2/2 [==============================] - 0s 12ms/step - loss: 22.3213 - mse: 722.5668\n",
            "Epoch 499/500\n",
            "2/2 [==============================] - 0s 10ms/step - loss: 8.3732 - mse: 113.7761\n",
            "Epoch 500/500\n",
            "2/2 [==============================] - 0s 8ms/step - loss: 14.5724 - mse: 305.0778\n"
          ],
          "name": "stdout"
        },
        {
          "output_type": "execute_result",
          "data": {
            "text/plain": [
              "<tensorflow.python.keras.callbacks.History at 0x7fbfa03b51d0>"
            ]
          },
          "metadata": {
            "tags": []
          },
          "execution_count": 51
        }
      ]
    },
    {
      "cell_type": "code",
      "metadata": {
        "colab": {
          "base_uri": "https://localhost:8080/",
          "height": 428
        },
        "id": "7InSIDtC8021",
        "outputId": "4c11b43a-d431-4253-d9fb-18e5d22da358"
      },
      "source": [
        "y_preds_3 = model_3.predict(x_test)\n",
        "plot_predictions(predictions=y_preds_3)"
      ],
      "execution_count": 52,
      "outputs": [
        {
          "output_type": "display_data",
          "data": {
            "image/png": "[encoded data removed]",
            "text/plain": [
              "<Figure size 720x504 with 1 Axes>"
            ]
          },
          "metadata": {
            "tags": [],
            "needs_background": "light"
          }
        }
      ]
    },
    {
      "cell_type": "code",
      "metadata": {
        "colab": {
          "base_uri": "https://localhost:8080/"
        },
        "id": "y1gy1KZZ9SGX",
        "outputId": "6945ff35-839f-4233-d55b-04b23b228020"
      },
      "source": [
        "mae_3 = mae(y_test, y_preds_3)\n",
        "mse_3 = mse(y_test, y_preds_3)\n",
        "mae_3, mse_3"
      ],
      "execution_count": 53,
      "outputs": [
        {
          "output_type": "execute_result",
          "data": {
            "text/plain": [
              "(<tf.Tensor: shape=(), dtype=float32, numpy=59.02484>,\n",
              " <tf.Tensor: shape=(), dtype=float32, numpy=3536.0774>)"
            ]
          },
          "metadata": {
            "tags": []
          },
          "execution_count": 53
        }
      ]
    },
    {
      "cell_type": "markdown",
      "metadata": {
        "id": "NkBu5POc9sbN"
      },
      "source": [
        "## Comparing the results of our experiments\n",
        "\n",
        "We've run a few experiments, lets compare the results"
      ]
    },
    {
      "cell_type": "code",
      "metadata": {
        "colab": {
          "base_uri": "https://localhost:8080/",
          "height": 143
        },
        "id": "-S8X7Zhh93oj",
        "outputId": "d79ff348-f97f-4e6c-c358-cfeaa99cb36b"
      },
      "source": [
        "# Let's compare our model's results using a pandas DataFrame\n",
        "import pandas as pd\n",
        "\n",
        "model_results = [[\"model_1\", mae_1.numpy(), mse_1.numpy()],\n",
        "                 [\"model_2\", mae_2.numpy(), mse_2.numpy()],\n",
        "                 [\"model_3\", mae_3.numpy(), mse_3.numpy()]]\n",
        "all_results = pd.DataFrame(model_results, columns=[\"model\", \"mae\", \"mse\"])\n",
        "all_results"
      ],
      "execution_count": 54,
      "outputs": [
        {
          "output_type": "execute_result",
          "data": {
            "text/html": [
              "<div>\n",
              "<style scoped>\n",
              "    .dataframe tbody tr th:only-of-type {\n",
              "        vertical-align: middle;\n",
              "    }\n",
              "\n",
              "    .dataframe tbody tr th {\n",
              "        vertical-align: top;\n",
              "    }\n",
              "\n",
              "    .dataframe thead th {\n",
              "        text-align: right;\n",
              "    }\n",
              "</style>\n",
              "<table border=\"1\" class=\"dataframe\">\n",
              "  <thead>\n",
              "    <tr style=\"text-align: right;\">\n",
              "      <th></th>\n",
              "      <th>model</th>\n",
              "      <th>mae</th>\n",
              "      <th>mse</th>\n",
              "    </tr>\n",
              "  </thead>\n",
              "  <tbody>\n",
              "    <tr>\n",
              "      <th>0</th>\n",
              "      <td>model_1</td>\n",
              "      <td>18.745327</td>\n",
              "      <td>353.573364</td>\n",
              "    </tr>\n",
              "    <tr>\n",
              "      <th>1</th>\n",
              "      <td>model_2</td>\n",
              "      <td>3.196941</td>\n",
              "      <td>13.070143</td>\n",
              "    </tr>\n",
              "    <tr>\n",
              "      <th>2</th>\n",
              "      <td>model_3</td>\n",
              "      <td>59.024841</td>\n",
              "      <td>3536.077393</td>\n",
              "    </tr>\n",
              "  </tbody>\n",
              "</table>\n",
              "</div>"
            ],
            "text/plain": [
              "     model        mae          mse\n",
              "0  model_1  18.745327   353.573364\n",
              "1  model_2   3.196941    13.070143\n",
              "2  model_3  59.024841  3536.077393"
            ]
          },
          "metadata": {
            "tags": []
          },
          "execution_count": 54
        }
      ]
    },
    {
      "cell_type": "markdown",
      "metadata": {
        "id": "4QUZiQ4r_eN9"
      },
      "source": [
        "**Note:** One of your main goals should be to minimize the time between experiments. the more experiments you do, the more things you'll figure out which don't work and in turn, get closer to figure out what does work. Remember the machine learning practitioner's motto: \"experiment, experiment, experiment\"."
      ]
    },
    {
      "cell_type": "markdown",
      "metadata": {
        "id": "WPrOkuzaAwmi"
      },
      "source": [
        "## Tracking your experiments\n",
        "\n",
        "One really good habit in machine learning modelling is to track the results of your experiments.\n",
        "\n",
        "And when doing so, it can be tedious if you're running lots of experiments\n",
        "\n",
        "Luckily, there are tools to help us!\n",
        "\n",
        "\n",
        "**Resource:** As you build more models, you'll want to look into using:\n",
        "* TensorBoard - a component of the tensorflow library to help track modelling experiments (we'll see this one later).\n",
        "* Weights & Biases - a tool for tracking all kinds of machine learning experiments (plugs straght into TensorBord)."
      ]
    },
    {
      "cell_type": "markdown",
      "metadata": {
        "id": "ic0qgqs7Bn-G"
      },
      "source": [
        "## Saving our models\n",
        "\n",
        "* Saving our models allows us to use them outside of Google collab\n",
        "\n",
        "There are two main formats we can saver our models's too:\n",
        "1. The Saved Model format\n",
        "2. The HDF5 format"
      ]
    },
    {
      "cell_type": "code",
      "metadata": {
        "colab": {
          "base_uri": "https://localhost:8080/"
        },
        "id": "EqDYJ8sxBuzC",
        "outputId": "908548b3-0a15-403b-ba83-a39f5a26f38f"
      },
      "source": [
        "model_2.save(\"best_model_savedModel_format\")"
      ],
      "execution_count": 57,
      "outputs": [
        {
          "output_type": "stream",
          "text": [
            "INFO:tensorflow:Assets written to: best_model_savedModel_format/assets\n"
          ],
          "name": "stdout"
        }
      ]
    },
    {
      "cell_type": "code",
      "metadata": {
        "colab": {
          "base_uri": "https://localhost:8080/"
        },
        "id": "Wlj317GPCiGy",
        "outputId": "3fab64b3-3fad-4fa6-9d6a-f27ece8a5b4f"
      },
      "source": [
        "# Save model using the HD5 format ( if using outside pure tensorflow code )\n",
        "model_2.save(\"best_model_HDF5_format.H5\")"
      ],
      "execution_count": 59,
      "outputs": [
        {
          "output_type": "stream",
          "text": [
            "INFO:tensorflow:Assets written to: best_model_HDF5_format.H5/assets\n"
          ],
          "name": "stdout"
        }
      ]
    },
    {
      "cell_type": "code",
      "metadata": {
        "id": "45C34-LOtF_0"
      },
      "source": [
        ""
      ],
      "execution_count": null,
      "outputs": []
    }
  ]
}